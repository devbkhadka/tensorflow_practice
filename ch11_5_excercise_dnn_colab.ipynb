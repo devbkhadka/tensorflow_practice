{
  "nbformat": 4,
  "nbformat_minor": 0,
  "metadata": {
    "colab": {
      "name": "ch11_5_excercise_dnn",
      "provenance": [],
      "collapsed_sections": []
    },
    "kernelspec": {
      "name": "python3",
      "display_name": "Python 3"
    }
  },
  "cells": [
    {
      "cell_type": "markdown",
      "metadata": {
        "id": "NuFpE8Wpg62y",
        "colab_type": "text"
      },
      "source": [
        "## Prepare Data"
      ]
    },
    {
      "cell_type": "code",
      "metadata": {
        "id": "Vlb-BJV2NqJ6",
        "colab_type": "code",
        "colab": {}
      },
      "source": [
        "from sklearn.model_selection import train_test_split\n",
        "import tensorflow as tf\n",
        "import numpy as np\n",
        "\n",
        "(x_train_all, y_train_all), (x_test, y_test) = tf.keras.datasets.mnist.load_data()\n",
        "x_train_all = x_train_all.reshape(-1, 28*28)/255.0\n",
        "x_test = x_test.reshape(-1,28*28)/255.0\n",
        "\n",
        "x_train, x_val, y_train, y_val = train_test_split(x_train_all.astype(np.float32), y_train_all.astype(np.int32), test_size=5000)"
      ],
      "execution_count": 0,
      "outputs": []
    },
    {
      "cell_type": "code",
      "metadata": {
        "id": "8qV7HBi1N-Ek",
        "colab_type": "code",
        "colab": {}
      },
      "source": [
        "import matplotlib.pyplot as plt\n",
        "\n",
        "def show_digits(X_batch):\n",
        "    batch_size=len(X_batch)\n",
        "    plt.figure(figsize=(3, 3 * batch_size))\n",
        "    plt.subplot(121)\n",
        "    plt.imshow(X_batch[:,0].reshape(28 * batch_size, 28), cmap=\"binary\", \n",
        "               interpolation=\"nearest\")\n",
        "    plt.axis('off')\n",
        "    plt.subplot(122)\n",
        "    plt.imshow(X_batch[:,1].reshape(28 * batch_size, 28), cmap=\"binary\", \n",
        "               interpolation=\"nearest\")\n",
        "    plt.axis('off')\n",
        "    plt.show()"
      ],
      "execution_count": 0,
      "outputs": []
    },
    {
      "cell_type": "code",
      "metadata": {
        "id": "qlr6G4sIOHkD",
        "colab_type": "code",
        "outputId": "72cee05a-c0ac-4d51-a72c-0b7adcd11bef",
        "colab": {
          "base_uri": "https://localhost:8080/",
          "height": 532
        }
      },
      "source": [
        "def get_compare_dataset(x_train, y_train):\n",
        "    \n",
        "    x_images1, x_images2, is_equal = [[],[],[]]\n",
        "    for val in np.unique(y_train):\n",
        "        indxes = np.arange(len(y_train), dtype=np.int32)\n",
        "        val_bool_index = (y_train==val)\n",
        "        \n",
        "        val_indxes = indxes[val_bool_index]\n",
        "        other_indxes = indxes[~val_bool_index]\n",
        "        \n",
        "        half_len = len(val_indxes)//2\n",
        "        x_images1.append(x_train[np.random.choice(val_indxes, half_len)])\n",
        "        x_images2.append(x_train[np.random.choice(val_indxes, half_len)])\n",
        "        is_equal.append(np.ones(half_len))\n",
        "        \n",
        "        \n",
        "        other_len = len(val_indxes) - half_len\n",
        "        x_images1.append(x_train[np.random.choice(val_indxes, other_len)])\n",
        "        x_images2.append(x_train[np.random.choice(other_indxes, other_len)])\n",
        "        is_equal.append(np.zeros(other_len))\n",
        "        \n",
        "    x_images1, x_images2, is_equal = (np.concatenate(x_images1), np.concatenate(x_images2) \\\n",
        "                ,np.concatenate(is_equal))\n",
        "\n",
        "    x_images = np.c_[x_images1, x_images2].reshape(-1,2,x_train.shape[1])\n",
        "\n",
        "    shufffle_index = np.random.permutation(len(is_equal))\n",
        "    \n",
        "    return x_images[shufffle_index].copy(), is_equal[shufffle_index].reshape(-1,1)\n",
        " \n",
        "## TEST\n",
        "x_images_, is_equal_ = get_compare_dataset(x_train, y_train)\n",
        "print(x_images_.shape)\n",
        "rnd_indx = np.random.choice(len(is_equal_), 5)\n",
        "print(is_equal_[rnd_indx])\n",
        "show_digits(x_images_[rnd_indx])"
      ],
      "execution_count": 0,
      "outputs": [
        {
          "output_type": "stream",
          "text": [
            "(55000, 2, 784)\n",
            "[[0.]\n",
            " [0.]\n",
            " [0.]\n",
            " [1.]\n",
            " [0.]]\n"
          ],
          "name": "stdout"
        },
        {
          "output_type": "display_data",
          "data": {
            "image/png": "[encoded data removed]",
            "text/plain": [
              "<Figure size 216x1080 with 2 Axes>"
            ]
          },
          "metadata": {
            "tags": []
          }
        }
      ]
    },
    {
      "cell_type": "markdown",
      "metadata": {
        "id": "OkkH2S_MhF2y",
        "colab_type": "text"
      },
      "source": [
        "### Training and Validation data"
      ]
    },
    {
      "cell_type": "code",
      "metadata": {
        "id": "t6hfhM6-OOL3",
        "colab_type": "code",
        "colab": {}
      },
      "source": [
        "x_images_train, y_is_equal_train = get_compare_dataset(x_train, y_train)\n",
        "x_images_val, y_is_equal_val = get_compare_dataset(x_val, y_val)"
      ],
      "execution_count": 0,
      "outputs": []
    },
    {
      "cell_type": "markdown",
      "metadata": {
        "id": "9cFxjuZfhNPU",
        "colab_type": "text"
      },
      "source": [
        "## Utility Functions"
      ]
    },
    {
      "cell_type": "code",
      "metadata": {
        "id": "JTGbhJK4QmuF",
        "colab_type": "code",
        "colab": {}
      },
      "source": [
        "import tensorflow as tf\n",
        "from tensorflow.contrib.layers import variance_scaling_initializer as he_initializer\n",
        "from tensorflow.layers import dense\n",
        "import numpy as np\n",
        "\n",
        "\n",
        "def get_connected_layers(inputs, n_hidden_layers=5, n_neurons=100, name=None,\n",
        "        activation=tf.nn.elu, initializer=he_initializer):\n",
        "    with tf.variable_scope(name, \"dnn\"):\n",
        "        for layer in range(n_hidden_layers):\n",
        "            inputs = tf.layers.dense(inputs, n_neurons, activation=activation,\n",
        "                                     kernel_initializer=initializer(),\n",
        "                                     name=\"hidden%d\" % (layer + 1))\n",
        "        return inputs\n",
        "\n",
        "\n",
        "def get_optimizer_op(optimizer, loss, learning_rate=0.01):\n",
        "    with tf.name_scope(\"train\"):\n",
        "        optimizer =  optimizer(learning_rate=learning_rate)\n",
        "        optimizer_op = optimizer.minimize(loss, name=\"optimizer_op\")\n",
        "    return optimizer_op\n",
        "    \n",
        "def get_batch(x,y,batch_size):\n",
        "    n_batches = len(y)//batch_size + 1\n",
        "    for i in range(n_batches):\n",
        "        indxes = np.random.choice(len(y), size=batch_size, replace=False)\n",
        "        yield x[indxes], y[indxes]\n",
        "\n"
      ],
      "execution_count": 0,
      "outputs": []
    },
    {
      "cell_type": "markdown",
      "metadata": {
        "id": "_ndTEGyGga54",
        "colab_type": "text"
      },
      "source": [
        "## Mount Google Drive"
      ]
    },
    {
      "cell_type": "code",
      "metadata": {
        "id": "0dq5ImjSgX3V",
        "colab_type": "code",
        "colab": {}
      },
      "source": [
        "from google.colab import drive\n",
        "drive.mount('/content/gdrive')"
      ],
      "execution_count": 0,
      "outputs": []
    },
    {
      "cell_type": "markdown",
      "metadata": {
        "id": "rBELNUduhXim",
        "colab_type": "text"
      },
      "source": [
        "## Create Class Compare Images"
      ]
    },
    {
      "cell_type": "code",
      "metadata": {
        "id": "ZayDbfp8OP0d",
        "colab_type": "code",
        "colab": {}
      },
      "source": [
        "class DNN_Comparer():\n",
        "    \n",
        "    def __init__(self, n_hidden_layers=None, n_neurons=None, n_outputs=None, \n",
        "                 activation=tf.nn.elu, optimizer=tf.train.AdamOptimizer,  learning_rate=0.01, \n",
        "                 batch_norm_momentum=None, batch_size=50, dropout_rate=None):\n",
        "        self.n_hidden_layers = n_hidden_layers\n",
        "        self.n_neurons = n_neurons\n",
        "        self.learning_rate = learning_rate\n",
        "        self.activation = activation\n",
        "        self.optimizer = optimizer\n",
        "        self.batch_norm_momentum = batch_norm_momentum\n",
        "        self.batch_size = batch_size\n",
        "        self.dropout_rate = dropout_rate\n",
        "        self.n_outputs = n_outputs\n",
        "        self._session = None\n",
        "        model_save_name= \"ch11_5_excercise_compare\"\n",
        "        self._save_path = F\"/content/gdrive/My Drive/Colab Notebooks/checkpoints/{model_save_name}\"\n",
        "    \n",
        "    def _create_graph(self):\n",
        "        tf.reset_default_graph()\n",
        "        \n",
        "        \n",
        "        self._images = tf.placeholder(shape=(None, 2, 28*28), dtype=tf.float32,name=\"x\")\n",
        "        self._image1, self._image2 = tf.unstack(self._images, axis=1)\n",
        "\n",
        "        self._is_equal = tf.placeholder(shape=(None,1), dtype=tf.int32,name=\"y\")\n",
        "\n",
        "        with tf.variable_scope(\"dnn1\"):\n",
        "            dnn1 = get_connected_layers(self._image1)\n",
        "\n",
        "        with tf.variable_scope(\"dnn2\"):\n",
        "            dnn2 = get_connected_layers(self._image2)\n",
        "\n",
        "        combined_dnn = tf.concat([dnn1, dnn2], axis=1, name=\"combined_dnn\")\n",
        "\n",
        "        hidden_new = tf.layers.dense(combined_dnn, 10, name=\"hidden_new\", activation=tf.nn.elu\n",
        "                                     , kernel_initializer=he_initializer())\n",
        "        self._output = tf.layers.dense(hidden_new, 1, name=\"output\", kernel_initializer=he_initializer())\n",
        "\n",
        "        is_equal_float=tf.cast(self._is_equal, tf.float32)\n",
        "        entropy=tf.nn.sigmoid_cross_entropy_with_logits(labels=is_equal_float, \n",
        "                                                        logits=self._output)\n",
        "\n",
        "        self._loss = tf.reduce_mean(entropy)\n",
        "\n",
        "#         self._optimizer_op = get_optimizer_op(self.optimizer, self._loss, \n",
        "#                                               self.learning_rate)\n",
        "\n",
        "        momentum = 0.99\n",
        "  \n",
        "\n",
        "        optimizer = tf.train.MomentumOptimizer(self.learning_rate, momentum, use_nesterov=True)\n",
        "        self._optimizer_op = optimizer.minimize(self._loss)\n",
        "\n",
        "\n",
        "#         self._batch_norm_update_ops = self._graph.get_collection(tf.GraphKeys.UPDATE_OPS)\n",
        "\n",
        "        self._preds = tf.cast(tf.greater_equal(self._output, 0), tf.int32)\n",
        "        self._accuracy =tf.reduce_mean(tf.cast(tf.equal(self._preds,self._is_equal), tf.float32))\n",
        "\n",
        "        self._init = tf.global_variables_initializer()\n",
        "        self._saver = tf.train.Saver()\n",
        "        \n",
        "    \n",
        "    def fit(self, x_images, is_equal, x_images_val, is_equal_val):\n",
        "      n_epoch=100\n",
        "      self._create_graph()\n",
        "      with tf.Session() as sess:\n",
        "        self._init.run()\n",
        "        for epoch in range(n_epoch):\n",
        "          for batch_x, batch_y in get_batch(x_images, is_equal, self.batch_size):\n",
        "            feed_dict={\n",
        "                self._images: batch_x,\n",
        "                self._is_equal: batch_y\n",
        "            }\n",
        "            loss,_ = sess.run([self._loss, self._optimizer_op], feed_dict=feed_dict)\n",
        "            \n",
        "          if epoch%5==0:\n",
        "            feed_dict= {\n",
        "                self._images: x_images_val,\n",
        "                self._is_equal: is_equal_val\n",
        "            }\n",
        "            test_loss, test_acc = sess.run([self._loss, self._accuracy], feed_dict=feed_dict)\n",
        "            print(\"%d. training loss:%f, test loss: %f, test acc: %f\"%(epoch, loss,test_loss, test_acc))\n",
        "        \n",
        "        \n",
        "        self._saver.save(sess, self._save_path)\n",
        "    \n",
        "    def test(self):\n",
        "        self._create_graph()\n",
        "        with tf.Session(graph=self._graph) as sess:\n",
        "            sess.run(self._init)\n",
        "            acc=self._loss.eval(feed_dict={\n",
        "                self._images: x_images[:500],\n",
        "                self._is_equal: is_equal[:500]\n",
        "            })\n",
        "        print(np.unique(acc,return_counts=True))\n",
        "            \n",
        "    \n"
      ],
      "execution_count": 0,
      "outputs": []
    },
    {
      "cell_type": "markdown",
      "metadata": {
        "id": "1ejdHPf9hgad",
        "colab_type": "text"
      },
      "source": [
        "## Train Comparer"
      ]
    },
    {
      "cell_type": "code",
      "metadata": {
        "id": "Okxup-QSOVyG",
        "colab_type": "code",
        "outputId": "cfb5769f-4d40-475f-ea10-f9ba6cb7d53a",
        "colab": {
          "base_uri": "https://localhost:8080/",
          "height": 353
        }
      },
      "source": [
        "## Test Create Graph\n",
        "# comparer = DNN_Comparer(5, 100)\n",
        "# comparer._create_graph()\n",
        "\n",
        "## Test\n",
        "# comparer = DNN_Comparer(5, 100)\n",
        "# comparer.test()\n",
        "\n",
        "## Test fit\n",
        "comparer = DNN_Comparer(3, 50, batch_size=500, learning_rate=0.01)\n",
        "comparer.fit(x_images_train, y_is_equal_train, x_images_val, y_is_equal_val)"
      ],
      "execution_count": 0,
      "outputs": [
        {
          "output_type": "stream",
          "text": [
            "0. training loss:0.490814, test loss: 0.470142, test acc: 0.778200\n",
            "5. training loss:0.147272, test loss: 0.203906, test acc: 0.920600\n",
            "10. training loss:0.054016, test loss: 0.163968, test acc: 0.947400\n",
            "15. training loss:0.031921, test loss: 0.199385, test acc: 0.951800\n",
            "20. training loss:0.018006, test loss: 0.219997, test acc: 0.952600\n",
            "25. training loss:0.012368, test loss: 0.256683, test acc: 0.955200\n",
            "30. training loss:0.004041, test loss: 0.235933, test acc: 0.959400\n",
            "35. training loss:0.002846, test loss: 0.259032, test acc: 0.962800\n",
            "40. training loss:0.001737, test loss: 0.271637, test acc: 0.961800\n",
            "45. training loss:0.016217, test loss: 0.259218, test acc: 0.960000\n",
            "50. training loss:0.007147, test loss: 0.276198, test acc: 0.962200\n",
            "55. training loss:0.010198, test loss: 0.297993, test acc: 0.961000\n",
            "60. training loss:0.001094, test loss: 0.292433, test acc: 0.959800\n",
            "65. training loss:0.005915, test loss: 0.303355, test acc: 0.960200\n",
            "70. training loss:0.012613, test loss: 0.327801, test acc: 0.962200\n",
            "75. training loss:0.000710, test loss: 0.290093, test acc: 0.965400\n",
            "80. training loss:0.001130, test loss: 0.280349, test acc: 0.966600\n",
            "85. training loss:0.000042, test loss: 0.301569, test acc: 0.965600\n",
            "90. training loss:0.001894, test loss: 0.288192, test acc: 0.962000\n",
            "95. training loss:0.001639, test loss: 0.305971, test acc: 0.961600\n"
          ],
          "name": "stdout"
        }
      ]
    },
    {
      "cell_type": "code",
      "metadata": {
        "id": "OniBzSq4ahS6",
        "colab_type": "code",
        "colab": {}
      },
      "source": [
        "class DNN_Reuse_Comparer():\n",
        "  \n",
        "  def __init__(self):\n",
        "    self._session = None\n",
        "    model_save_name= \"ch11_5_excercise_compare\"\n",
        "    self._save_path = F\"/content/gdrive/My Drive/Colab Notebooks/checkpoints/{model_save_name}\"\n",
        "    \n",
        "  \n",
        "  def restore_graph(self):\n",
        "    tf.reset_default_graph()\n",
        "    self._importer = tf.train.import_meta_graph(F\"{self._save_path}.meta\")\n",
        "    \n",
        "    graph = tf.get_default_graph()\n",
        "    \n",
        "    self._image = graph.get_tensor_by_name(\"unstack:0\")\n",
        "    self._y = tf.placeholder(tf.int32, (None), name=\"y2\")\n",
        "    \n",
        "    dnn1_logits = graph.get_tensor_by_name(\"dnn1/dnn/hidden5/Elu:0\")\n",
        "    \n",
        "    logits = tf.layers.dense(dnn1_logits, 10, name=\"output2\")\n",
        "    \n",
        "    xentropy = tf.nn.sparse_softmax_cross_entropy_with_logits(logits=logits, labels=self._y, name=\"xentropy\")\n",
        "    self._loss = tf.reduce_mean(xentropy)\n",
        "    \n",
        "    self._accuracy = tf.reduce_mean(tf.cast(tf.nn.in_top_k(logits,self._y,1), tf.float32))\n",
        "    \n",
        "    \n",
        "    \n",
        "    output_variables = graph.get_collection(tf.GraphKeys.TRAINABLE_VARIABLES, scope=\"output2\")\n",
        "    optimizer = tf.train.AdamOptimizer(learning_rate=0.01)\n",
        "    self._optimize = optimizer.minimize(self._loss, var_list=output_variables)\n",
        "    \n",
        "    self._init = tf.global_variables_initializer()\n",
        "    \n",
        "    return graph\n",
        "  \n",
        "  def fit(self, x, y):\n",
        "    with tf.Session() as sess:\n",
        "      sess.run(self._init)\n",
        "      self._importer.restore(sess, self._save_path)\n",
        "      min_loss = float(\"inf\")\n",
        "      \n",
        "      for epoch in range(100):\n",
        "        for batch_x, batch_y in get_batch(x,y,100):\n",
        "          loss = sess.run([self._loss, self._accuracy, self._optimize],feed_dict={\n",
        "              self._image: x,\n",
        "              self._y: y\n",
        "          })\n",
        "        \n",
        "        \n",
        "        test_acc = self._accuracy.eval(feed_dict={\n",
        "            self._image: x_test,\n",
        "            self._y: y_test\n",
        "        })\n",
        "        \n",
        "        ## early stop\n",
        "        if test_loss<min_loss:\n",
        "          min_loss = test_loss\n",
        "          best_epoch = epoch\n",
        "          ## TODO: save params\n",
        "          \n",
        "        \n",
        "        print(F\"epoch:{epoch}, loss, acc:{loss}, test_acc: {test_acc}\")\n",
        "        \n",
        "      ## TODO: restore based params \n",
        "  \n",
        "  def predict(self, x):\n",
        "    with tf.Session() as sess:\n",
        "      sess.run(self._init)\n",
        "      self._importer.restore(sess, self._save_path)\n",
        "      \n",
        "      probab = self._probab.eval(feed_dict={\n",
        "          self._image: x\n",
        "      })\n",
        "      \n",
        "      print(probab)\n",
        "  \n",
        "  "
      ],
      "execution_count": 0,
      "outputs": []
    },
    {
      "cell_type": "code",
      "metadata": {
        "id": "yJ-6PgNvURyG",
        "colab_type": "code",
        "outputId": "cde75251-28e6-412d-e4b1-1024825a0d48",
        "colab": {
          "base_uri": "https://localhost:8080/",
          "height": 1000
        }
      },
      "source": [
        "model=DNN_Reuse_Comparer()\n",
        "\n",
        "graph=model.restore_graph()\n",
        "\n",
        "model.fit(x_val, y_val)"
      ],
      "execution_count": 0,
      "outputs": [
        {
          "output_type": "stream",
          "text": [
            "INFO:tensorflow:Restoring parameters from /content/gdrive/My Drive/Colab Notebooks/checkpoints/ch11_5_excercise_compare\n",
            "epoch:0, loss, acc:[0.18021093, 0.9674, None], test_acc: 0.9581000208854675\n",
            "epoch:1, loss, acc:[0.1206675, 0.969, None], test_acc: 0.9595000147819519\n",
            "epoch:2, loss, acc:[0.08914905, 0.9744, None], test_acc: 0.9587000012397766\n",
            "epoch:3, loss, acc:[0.07480315, 0.978, None], test_acc: 0.9587000012397766\n",
            "epoch:4, loss, acc:[0.066300526, 0.98, None], test_acc: 0.9592000246047974\n",
            "epoch:5, loss, acc:[0.06041865, 0.9826, None], test_acc: 0.9593999981880188\n",
            "epoch:6, loss, acc:[0.05584496, 0.984, None], test_acc: 0.9595999717712402\n",
            "epoch:7, loss, acc:[0.05208755, 0.9852, None], test_acc: 0.9593999981880188\n",
            "epoch:8, loss, acc:[0.048909973, 0.9866, None], test_acc: 0.958899974822998\n",
            "epoch:9, loss, acc:[0.046172455, 0.9872, None], test_acc: 0.9585000276565552\n",
            "epoch:10, loss, acc:[0.04377918, 0.9878, None], test_acc: 0.9585999846458435\n",
            "epoch:11, loss, acc:[0.041659888, 0.988, None], test_acc: 0.958299994468689\n",
            "epoch:12, loss, acc:[0.0397619, 0.9882, None], test_acc: 0.958299994468689\n",
            "epoch:13, loss, acc:[0.038045593, 0.9886, None], test_acc: 0.9581999778747559\n",
            "epoch:14, loss, acc:[0.036480837, 0.9888, None], test_acc: 0.9581999778747559\n",
            "epoch:15, loss, acc:[0.035044264, 0.9894, None], test_acc: 0.9575999975204468\n",
            "epoch:16, loss, acc:[0.0337173, 0.99, None], test_acc: 0.9577999711036682\n",
            "epoch:17, loss, acc:[0.032484863, 0.9902, None], test_acc: 0.9578999876976013\n",
            "epoch:18, loss, acc:[0.031334616, 0.9906, None], test_acc: 0.9577999711036682\n",
            "epoch:19, loss, acc:[0.0302564, 0.9908, None], test_acc: 0.9574999809265137\n",
            "epoch:20, loss, acc:[0.02924173, 0.9918, None], test_acc: 0.9574000239372253\n",
            "epoch:21, loss, acc:[0.028283557, 0.9922, None], test_acc: 0.9571999907493591\n",
            "epoch:22, loss, acc:[0.027375977, 0.9926, None], test_acc: 0.9567999839782715\n",
            "epoch:23, loss, acc:[0.026513938, 0.993, None], test_acc: 0.9563000202178955\n",
            "epoch:24, loss, acc:[0.025693204, 0.9932, None], test_acc: 0.95660001039505\n",
            "epoch:25, loss, acc:[0.024910102, 0.9932, None], test_acc: 0.9563000202178955\n",
            "epoch:26, loss, acc:[0.024161495, 0.9936, None], test_acc: 0.9559000134468079\n",
            "epoch:27, loss, acc:[0.023444626, 0.9938, None], test_acc: 0.9557999968528748\n",
            "epoch:28, loss, acc:[0.022757117, 0.9944, None], test_acc: 0.9557999968528748\n",
            "epoch:29, loss, acc:[0.022096904, 0.9946, None], test_acc: 0.9556000232696533\n",
            "epoch:30, loss, acc:[0.021462133, 0.9946, None], test_acc: 0.9553999900817871\n",
            "epoch:31, loss, acc:[0.020851202, 0.9948, None], test_acc: 0.954800009727478\n",
            "epoch:32, loss, acc:[0.020262673, 0.9948, None], test_acc: 0.9545999765396118\n",
            "epoch:33, loss, acc:[0.019695256, 0.9948, None], test_acc: 0.954200029373169\n",
            "epoch:34, loss, acc:[0.019147802, 0.995, None], test_acc: 0.9537000060081482\n",
            "epoch:35, loss, acc:[0.018619237, 0.995, None], test_acc: 0.953499972820282\n",
            "epoch:36, loss, acc:[0.018108591, 0.9952, None], test_acc: 0.953499972820282\n",
            "epoch:37, loss, acc:[0.017614959, 0.9958, None], test_acc: 0.9532999992370605\n",
            "epoch:38, loss, acc:[0.017137524, 0.9958, None], test_acc: 0.9531999826431274\n",
            "epoch:39, loss, acc:[0.016675506, 0.996, None], test_acc: 0.9531000256538391\n",
            "epoch:40, loss, acc:[0.016228208, 0.996, None], test_acc: 0.953000009059906\n",
            "epoch:41, loss, acc:[0.01579496, 0.9962, None], test_acc: 0.9528999924659729\n",
            "epoch:42, loss, acc:[0.015375147, 0.9962, None], test_acc: 0.9526000022888184\n",
            "epoch:43, loss, acc:[0.0149682155, 0.9962, None], test_acc: 0.9523000121116638\n",
            "epoch:44, loss, acc:[0.014573619, 0.9962, None], test_acc: 0.9523000121116638\n",
            "epoch:45, loss, acc:[0.014190879, 0.9964, None], test_acc: 0.9523000121116638\n",
            "epoch:46, loss, acc:[0.013819511, 0.9966, None], test_acc: 0.9520999789237976\n",
            "epoch:47, loss, acc:[0.013459082, 0.9968, None], test_acc: 0.9520000219345093\n",
            "epoch:48, loss, acc:[0.013109183, 0.9972, None], test_acc: 0.9519000053405762\n",
            "epoch:49, loss, acc:[0.012769418, 0.9972, None], test_acc: 0.9513999819755554\n",
            "epoch:50, loss, acc:[0.01243941, 0.9974, None], test_acc: 0.9513000249862671\n",
            "epoch:51, loss, acc:[0.012118807, 0.9976, None], test_acc: 0.9513000249862671\n",
            "epoch:52, loss, acc:[0.011807263, 0.9978, None], test_acc: 0.9513000249862671\n",
            "epoch:53, loss, acc:[0.011504454, 0.9978, None], test_acc: 0.9509999752044678\n",
            "epoch:54, loss, acc:[0.011210076, 0.998, None], test_acc: 0.9508000016212463\n",
            "epoch:55, loss, acc:[0.010923822, 0.998, None], test_acc: 0.9506999850273132\n",
            "epoch:56, loss, acc:[0.010645421, 0.998, None], test_acc: 0.9505000114440918\n",
            "epoch:57, loss, acc:[0.0103745945, 0.998, None], test_acc: 0.9503999948501587\n",
            "epoch:58, loss, acc:[0.010111089, 0.998, None], test_acc: 0.9502999782562256\n",
            "epoch:59, loss, acc:[0.009854654, 0.9984, None], test_acc: 0.9498999714851379\n",
            "epoch:60, loss, acc:[0.00960505, 0.9984, None], test_acc: 0.9495000243186951\n",
            "epoch:61, loss, acc:[0.009362061, 0.9984, None], test_acc: 0.9492999911308289\n",
            "epoch:62, loss, acc:[0.009125466, 0.9986, None], test_acc: 0.9491000175476074\n",
            "epoch:63, loss, acc:[0.0088950675, 0.9986, None], test_acc: 0.9491999745368958\n",
            "epoch:64, loss, acc:[0.008670678, 0.9986, None], test_acc: 0.9491000175476074\n",
            "epoch:65, loss, acc:[0.008452097, 0.9986, None], test_acc: 0.9491000175476074\n",
            "epoch:66, loss, acc:[0.008239158, 0.9986, None], test_acc: 0.9488999843597412\n",
            "epoch:67, loss, acc:[0.0080317, 0.9988, None], test_acc: 0.9488000273704529\n",
            "epoch:68, loss, acc:[0.007829564, 0.9988, None], test_acc: 0.9487000107765198\n",
            "epoch:69, loss, acc:[0.0076326057, 0.999, None], test_acc: 0.9485999941825867\n",
            "epoch:70, loss, acc:[0.0074406755, 0.999, None], test_acc: 0.9485999941825867\n",
            "epoch:71, loss, acc:[0.007253636, 0.9994, None], test_acc: 0.9480999708175659\n",
            "epoch:72, loss, acc:[0.00707136, 0.9994, None], test_acc: 0.9480000138282776\n",
            "epoch:73, loss, acc:[0.0068937135, 0.9994, None], test_acc: 0.9480000138282776\n",
            "epoch:74, loss, acc:[0.006720563, 0.9994, None], test_acc: 0.9478999972343445\n",
            "epoch:75, loss, acc:[0.006551789, 0.9994, None], test_acc: 0.947700023651123\n",
            "epoch:76, loss, acc:[0.0063872715, 0.9994, None], test_acc: 0.9476000070571899\n",
            "epoch:77, loss, acc:[0.006226878, 0.9994, None], test_acc: 0.947700023651123\n",
            "epoch:78, loss, acc:[0.0060705035, 0.9994, None], test_acc: 0.9474999904632568\n",
            "epoch:79, loss, acc:[0.0059180297, 0.9994, None], test_acc: 0.9474999904632568\n",
            "epoch:80, loss, acc:[0.0057693548, 0.9994, None], test_acc: 0.9473000168800354\n",
            "epoch:81, loss, acc:[0.0056243734, 0.9994, None], test_acc: 0.9473000168800354\n",
            "epoch:82, loss, acc:[0.005482982, 0.9994, None], test_acc: 0.9470999836921692\n",
            "epoch:83, loss, acc:[0.005345082, 0.9994, None], test_acc: 0.9470999836921692\n",
            "epoch:84, loss, acc:[0.005210586, 0.9998, None], test_acc: 0.9470000267028809\n",
            "epoch:85, loss, acc:[0.0050794072, 0.9998, None], test_acc: 0.9466999769210815\n",
            "epoch:86, loss, acc:[0.0049514505, 0.9998, None], test_acc: 0.9466999769210815\n",
            "epoch:87, loss, acc:[0.0048266416, 0.9998, None], test_acc: 0.9467999935150146\n",
            "epoch:88, loss, acc:[0.0047048936, 0.9998, None], test_acc: 0.9466999769210815\n",
            "epoch:89, loss, acc:[0.004586134, 0.9998, None], test_acc: 0.9466000199317932\n",
            "epoch:90, loss, acc:[0.004470288, 0.9998, None], test_acc: 0.9466000199317932\n",
            "epoch:91, loss, acc:[0.0043572853, 0.9998, None], test_acc: 0.9465000033378601\n",
            "epoch:92, loss, acc:[0.0042470503, 0.9998, None], test_acc: 0.9463000297546387\n",
            "epoch:93, loss, acc:[0.004139521, 0.9998, None], test_acc: 0.9463000297546387\n",
            "epoch:94, loss, acc:[0.0040346305, 0.9998, None], test_acc: 0.946399986743927\n",
            "epoch:95, loss, acc:[0.0039323173, 0.9998, None], test_acc: 0.9465000033378601\n",
            "epoch:96, loss, acc:[0.003832516, 0.9998, None], test_acc: 0.9465000033378601\n",
            "epoch:97, loss, acc:[0.0037351688, 0.9998, None], test_acc: 0.946399986743927\n",
            "epoch:98, loss, acc:[0.0036402198, 0.9998, None], test_acc: 0.9459999799728394\n",
            "epoch:99, loss, acc:[0.003547612, 0.9998, None], test_acc: 0.9459999799728394\n"
          ],
          "name": "stdout"
        }
      ]
    },
    {
      "cell_type": "code",
      "metadata": {
        "id": "UNHGmVGdi4za",
        "colab_type": "code",
        "outputId": "ba21a54b-fdf9-49bd-d135-1abdde82d13d",
        "colab": {
          "base_uri": "https://localhost:8080/",
          "height": 50
        }
      },
      "source": [
        "graph.get_collection(tf.GraphKeys.TRAINABLE_VARIABLES, scope=\"output2\")"
      ],
      "execution_count": 0,
      "outputs": [
        {
          "output_type": "execute_result",
          "data": {
            "text/plain": [
              "[<tf.Variable 'output2/kernel:0' shape=(100, 10) dtype=float32_ref>,\n",
              " <tf.Variable 'output2/bias:0' shape=(10,) dtype=float32_ref>]"
            ]
          },
          "metadata": {
            "tags": []
          },
          "execution_count": 55
        }
      ]
    },
    {
      "cell_type": "code",
      "metadata": {
        "id": "_ky6-IHHbaqk",
        "colab_type": "code",
        "colab": {}
      },
      "source": [
        "optimizer = tf.train.AdamOptimizer(learning_rate=0.01)\n",
        "optimizer.minimize()"
      ],
      "execution_count": 0,
      "outputs": []
    },
    {
      "cell_type": "code",
      "metadata": {
        "id": "Qgf6gEO4uT2p",
        "colab_type": "code",
        "colab": {}
      },
      "source": [
        ""
      ],
      "execution_count": 0,
      "outputs": []
    }
  ]
}