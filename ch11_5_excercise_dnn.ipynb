{
 "cells": [
  {
   "cell_type": "markdown",
   "metadata": {},
   "source": [
    "### Pretraining on an auxiliary task. \n",
    "- In this exercise you will build a DNN that compares two MNIST digit images and predicts whether they represent the same digit or not. Then you will reuse the lower layers of this network to train an MNIST classifier using very little training data. Start by building two DNNs (let’s call them DNN A and B), both similar to the one you built earlier but without the output layer: each DNN should have five hidden layers of 100 neurons each, He initialization, and ELU activation. Next, add a single output layer on top of both DNNs. You should use TensorFlow’s concat() function with axis=1 to concatenate the outputs of both DNNs along the horizontal axis, then feed the result to the output layer. This output layer should contain a single neuron using the logistic activation function. \n",
    "\n",
    "- Split the MNIST training set in two sets: split #1 should containing 55,000 images, and split #2 should contain contain 5,000 images. Create a function that generates a training batch where each instance is a pair of MNIST images picked from split #1. Half of the training instances should be pairs of images that belong to the same class, while the other half should be images from different classes. For each pair, the training label should be 0 if the images are from the same class, or 1 if they are from different classes.\n",
    "\n",
    "- Train the DNN on this training set. For each image pair, you can simultaneously feed the first image to DNN A and the second image to DNN B. The whole network will gradually learn to tell whether two images belong to the same class or not. \n",
    "\n",
    "- Now create a new DNN by reusing and freezing the hidden layers of DNN A and adding a softmax output layer on with 10 neurons. Train this network on split #2 and see if you can achieve high performance despite having only 500 images per class."
   ]
  },
  {
   "cell_type": "markdown",
   "metadata": {},
   "source": [
    "### Prepare Data"
   ]
  },
  {
   "cell_type": "code",
   "execution_count": 1,
   "metadata": {},
   "outputs": [
    {
     "name": "stderr",
     "output_type": "stream",
     "text": [
      "/Users/devbhadurkhadka/.pyenv/versions/anaconda3-5.2.0/envs/scikit_practice/lib/python3.6/site-packages/h5py/__init__.py:36: FutureWarning: Conversion of the second argument of issubdtype from `float` to `np.floating` is deprecated. In future, it will be treated as `np.float64 == np.dtype(float).type`.\n",
      "  from ._conv import register_converters as _register_converters\n"
     ]
    }
   ],
   "source": [
    "from sklearn.model_selection import train_test_split\n",
    "import tensorflow as tf\n",
    "import numpy as np\n",
    "\n",
    "(x_train_all, y_train_all), (x_test, y_test) = tf.keras.datasets.mnist.load_data()\n",
    "x_train_all = x_train_all.reshape(-1, 28*28)/255.0\n",
    "\n",
    "x_train, x_val, y_train, y_val = train_test_split(x_train_all, y_train_all, test_size=5000)"
   ]
  },
  {
   "cell_type": "code",
   "execution_count": 2,
   "metadata": {},
   "outputs": [],
   "source": [
    "import matplotlib.pyplot as plt\n",
    "\n",
    "def show_digits(X_batch):\n",
    "    batch_size=len(X_batch)\n",
    "    plt.figure(figsize=(3, 3 * batch_size))\n",
    "    plt.subplot(121)\n",
    "    plt.imshow(X_batch[:,0].reshape(28 * batch_size, 28), cmap=\"binary\", \n",
    "               interpolation=\"nearest\")\n",
    "    plt.axis('off')\n",
    "    plt.subplot(122)\n",
    "    plt.imshow(X_batch[:,1].reshape(28 * batch_size, 28), cmap=\"binary\", \n",
    "               interpolation=\"nearest\")\n",
    "    plt.axis('off')\n",
    "    plt.show()"
   ]
  },
  {
   "cell_type": "code",
   "execution_count": 3,
   "metadata": {},
   "outputs": [
    {
     "name": "stdout",
     "output_type": "stream",
     "text": [
      "(55000, 2, 784)\n",
      "[1. 1. 1. 0. 0.]\n"
     ]
    },
    {
     "data": {
      "image/png": "[encoded data removed]",
      "text/plain": [
       "<Figure size 216x1080 with 2 Axes>"
      ]
     },
     "metadata": {},
     "output_type": "display_data"
    }
   ],
   "source": [
    "def get_compare_dataset(x_train, y_train):\n",
    "    \n",
    "    x_images1, x_images2, is_equal = [[],[],[]]\n",
    "    for val in np.unique(y_train):\n",
    "        indxes = np.arange(len(y_train), dtype=np.int32)\n",
    "        val_bool_index = (y_train==val)\n",
    "        \n",
    "        val_indxes = indxes[val_bool_index]\n",
    "        other_indxes = indxes[~val_bool_index]\n",
    "        \n",
    "        half_len = len(val_indxes)//2\n",
    "        x_images1.append(x_train[np.random.choice(val_indxes, half_len)])\n",
    "        x_images2.append(x_train[np.random.choice(val_indxes, half_len)])\n",
    "        is_equal.append(np.zeros(half_len))\n",
    "        \n",
    "        \n",
    "        other_len = len(val_indxes) - half_len\n",
    "        x_images1.append(x_train[np.random.choice(val_indxes, other_len)])\n",
    "        x_images2.append(x_train[np.random.choice(other_indxes, other_len)])\n",
    "        is_equal.append(np.ones(other_len))\n",
    "        \n",
    "    x_images1, x_images2, is_equal = (np.concatenate(x_images1), np.concatenate(x_images2) \\\n",
    "                ,np.concatenate(is_equal))\n",
    "\n",
    "    x_images = np.c_[x_images1, x_images2].reshape(-1,2,x_train.shape[1])\n",
    "\n",
    "    shufffle_index = np.random.permutation(len(is_equal))\n",
    "    \n",
    "    return x_images[shufffle_index], is_equal[shufffle_index]\n",
    " \n",
    "## TEST\n",
    "x_images, is_equal = get_compare_dataset(x_train, y_train)\n",
    "print(x_images.shape)\n",
    "rnd_indx = np.random.choice(len(is_equal), 5)\n",
    "print(is_equal[rnd_indx])\n",
    "show_digits(x_images[rnd_indx])"
   ]
  },
  {
   "cell_type": "code",
   "execution_count": 4,
   "metadata": {},
   "outputs": [],
   "source": [
    "x_images, is_equal = get_compare_dataset(x_train, y_train)"
   ]
  },
  {
   "cell_type": "markdown",
   "metadata": {},
   "source": [
    "### Create Class DNN_Comparer"
   ]
  },
  {
   "cell_type": "code",
   "execution_count": null,
   "metadata": {},
   "outputs": [],
   "source": [
    "from importlib import reload\n",
    "\n",
    "import my_libs.dnn\n",
    "reload(my_libs.dnn)\n",
    "\n",
    "from my_libs.dnn import DNN_Classifier, get_connected_layers, get_optimizer_op\n",
    "class DNN_Comparer():\n",
    "    \n",
    "    def __init__(self, n_hidden_layers=None, n_neurons=None, n_outputs=None, \n",
    "                 activation=tf.nn.elu, optimizer=tf.train.AdamOptimizer,  learning_rate=0.01, \n",
    "                 batch_norm_momentum=None, batch_size=50, dropout_rate=None):\n",
    "        self.n_hidden_layers = n_hidden_layers\n",
    "        self.n_neurons = n_neurons\n",
    "        self.learning_rate = learning_rate\n",
    "        self.activation = activation\n",
    "        self.optimizer = optimizer\n",
    "        self.batch_norm_momentum = batch_norm_momentum\n",
    "        self.batch_size = batch_size\n",
    "        self.dropout_rate = dropout_rate\n",
    "        self.n_outputs = n_outputs\n",
    "        self._session = None\n",
    "    \n",
    "    def _create_graph(self):\n",
    "        tf.reset_default_graph()\n",
    "        self._graph = tf.Graph()\n",
    "        with self._graph.as_default():\n",
    "        \n",
    "            self._images = tf.placeholder(shape=(None, 2, 28*28), dtype=np.float32,name=\"x\")\n",
    "            self._image1, self._image2 = tf.unstack(self._images, axis=1)\n",
    "            \n",
    "            self._is_equal = tf.placeholder(shape=(None), dtype=np.bool,name=\"y\")\n",
    "\n",
    "            self._is_training = tf.placeholder_with_default(False,shape=(), name=\"is_training\")\n",
    "\n",
    "\n",
    "            with tf.variable_scope(\"dnn1\"):\n",
    "                dnn1 = get_connected_layers(self._image1, self.n_hidden_layers, self.n_neurons,\n",
    "                                          activation=self.activation, \n",
    "                                   batch_norm_momentum=self.batch_norm_momentum, \n",
    "                                   dropout_rate=self.dropout_rate, is_training=self._is_training)\n",
    "                \n",
    "            with tf.variable_scope(\"dnn2\"):\n",
    "                dnn2 = get_connected_layers(self._image1, self.n_hidden_layers, self.n_neurons,\n",
    "                                      activation=self.activation, \n",
    "                               batch_norm_momentum=self.batch_norm_momentum, \n",
    "                               dropout_rate=self.dropout_rate, is_training=self._is_training)\n",
    "            \n",
    "            combined_dnn = tf.concat([dnn1, dnn2], axis=1, name=\"combined_dnn\")\n",
    "            \n",
    "            hidden_new = tf.layers.dense(combined_dnn, 10, name=\"hidden_new\")\n",
    "            self._output = tf.layers.dense(hidden_new, 1, name=\"output\")\n",
    "            \n",
    "            is_equal_float=tf.cast(self._is_equal, np.float32)\n",
    "            entropy=tf.nn.sigmoid_cross_entropy_with_logits(labels=is_equal_float, \n",
    "                                                            logits=self._output)\n",
    "            \n",
    "            self._loss = tf.reduce_mean(entropy)\n",
    "            \n",
    "            self._optimizer_op = get_optimizer_op(self.optimizer, self._loss, \n",
    "                                                  self.learning_rate)\n",
    "            \n",
    "            self._batch_norm_update_ops = self._graph.get_collection(tf.GraphKeys.UPDATE_OPS)\n",
    "            \n",
    "            self._preds = tf.greater_equal(self._output, 0)\n",
    "            self._accuracy = tf.cast(tf.equal(self._preds,self._is_equal), np.float32)\n",
    "            \n",
    "            self._init = tf.global_variables_initializer()\n",
    "        \n",
    "    def test(self):\n",
    "        self._create_graph()\n",
    "        with tf.Session(graph=self._graph) as sess:\n",
    "            sess.run(self._init)\n",
    "            acc=self._accuracy.eval(feed_dict={\n",
    "                self._images: x_images[:300],\n",
    "                self._is_equal: is_equal[:300]\n",
    "            })\n",
    "        print(np.unique(acc,return_counts=True))\n",
    "            \n",
    "    \n",
    "## Test Create Graph\n",
    "# comparer = DNN_Comparer(5, 100)\n",
    "# comparer._create_graph()\n",
    "\n",
    "## Test\n",
    "comparer = DNN_Comparer(5, 100)\n",
    "comparer.test()"
   ]
  },
  {
   "cell_type": "code",
   "execution_count": 39,
   "metadata": {},
   "outputs": [
    {
     "name": "stderr",
     "output_type": "stream",
     "text": [
      "W0905 10:30:49.221084 4712965568 deprecation_wrapper.py:119] From /Volumes/Projects/Machine Learning/tensorflow_practice/my_libs/dnn.py:19: The name tf.get_variable_scope is deprecated. Please use tf.compat.v1.get_variable_scope instead.\n",
      "\n",
      "W0905 10:30:49.222267 4712965568 deprecation.py:323] From /Volumes/Projects/Machine Learning/tensorflow_practice/my_libs/dnn.py:29: dense (from tensorflow.python.layers.core) is deprecated and will be removed in a future version.\n",
      "Instructions for updating:\n",
      "Use keras.layers.dense instead.\n"
     ]
    },
    {
     "name": "stdout",
     "output_type": "stream",
     "text": [
      "dnn1\n"
     ]
    },
    {
     "name": "stderr",
     "output_type": "stream",
     "text": [
      "W0905 10:30:50.393679 4712965568 deprecation.py:506] From /Users/devbhadurkhadka/.pyenv/versions/anaconda3-5.2.0/envs/scikit_practice/lib/python3.6/site-packages/tensorflow/python/ops/init_ops.py:1251: calling VarianceScaling.__init__ (from tensorflow.python.ops.init_ops) with dtype is deprecated and will be removed in a future version.\n",
      "Instructions for updating:\n",
      "Call initializer instance with the dtype argument instead of passing it to the constructor\n"
     ]
    },
    {
     "name": "stdout",
     "output_type": "stream",
     "text": [
      "dnn2\n"
     ]
    },
    {
     "name": "stderr",
     "output_type": "stream",
     "text": [
      "W0905 10:30:50.592252 4712965568 deprecation.py:323] From /Users/devbhadurkhadka/.pyenv/versions/anaconda3-5.2.0/envs/scikit_practice/lib/python3.6/site-packages/tensorflow/python/ops/losses/losses_impl.py:121: add_dispatch_support.<locals>.wrapper (from tensorflow.python.ops.array_ops) is deprecated and will be removed in a future version.\n",
      "Instructions for updating:\n",
      "Use tf.where in 2.0, which has the same broadcast rule as np.where\n"
     ]
    },
    {
     "ename": "NameError",
     "evalue": "name 'get_optimizer_op' is not defined",
     "output_type": "error",
     "traceback": [
      "\u001b[0;31m---------------------------------------------------------------------------\u001b[0m",
      "\u001b[0;31mNameError\u001b[0m                                 Traceback (most recent call last)",
      "\u001b[0;32m<ipython-input-39-cc6f1d42eccc>\u001b[0m in \u001b[0;36m<module>\u001b[0;34m()\u001b[0m\n\u001b[1;32m      1\u001b[0m \u001b[0mdnn\u001b[0m \u001b[0;34m=\u001b[0m \u001b[0mDNN_Comparer\u001b[0m\u001b[0;34m(\u001b[0m\u001b[0;36m5\u001b[0m\u001b[0;34m,\u001b[0m \u001b[0;36m100\u001b[0m\u001b[0;34m)\u001b[0m\u001b[0;34m\u001b[0m\u001b[0m\n\u001b[0;32m----> 2\u001b[0;31m \u001b[0mdnn\u001b[0m\u001b[0;34m.\u001b[0m\u001b[0mtest\u001b[0m\u001b[0;34m(\u001b[0m\u001b[0;34m)\u001b[0m\u001b[0;34m\u001b[0m\u001b[0m\n\u001b[0m",
      "\u001b[0;32m<ipython-input-38-8f5a33cf4319>\u001b[0m in \u001b[0;36mtest\u001b[0;34m(self)\u001b[0m\n\u001b[1;32m     58\u001b[0m \u001b[0;34m\u001b[0m\u001b[0m\n\u001b[1;32m     59\u001b[0m     \u001b[0;32mdef\u001b[0m \u001b[0mtest\u001b[0m\u001b[0;34m(\u001b[0m\u001b[0mself\u001b[0m\u001b[0;34m)\u001b[0m\u001b[0;34m:\u001b[0m\u001b[0;34m\u001b[0m\u001b[0m\n\u001b[0;32m---> 60\u001b[0;31m         \u001b[0mself\u001b[0m\u001b[0;34m.\u001b[0m\u001b[0m_create_graph\u001b[0m\u001b[0;34m(\u001b[0m\u001b[0;34m)\u001b[0m\u001b[0;34m\u001b[0m\u001b[0m\n\u001b[0m\u001b[1;32m     61\u001b[0m         \u001b[0;32mwith\u001b[0m \u001b[0mtf\u001b[0m\u001b[0;34m.\u001b[0m\u001b[0mSession\u001b[0m\u001b[0;34m(\u001b[0m\u001b[0mself\u001b[0m\u001b[0;34m.\u001b[0m\u001b[0m_graph\u001b[0m\u001b[0;34m)\u001b[0m\u001b[0;34m.\u001b[0m\u001b[0mas_default\u001b[0m\u001b[0;34m(\u001b[0m\u001b[0;34m)\u001b[0m\u001b[0;34m:\u001b[0m\u001b[0;34m\u001b[0m\u001b[0m\n\u001b[1;32m     62\u001b[0m             self._output.eval(feed_dict={\n",
      "\u001b[0;32m<ipython-input-38-8f5a33cf4319>\u001b[0m in \u001b[0;36m_create_graph\u001b[0;34m(self)\u001b[0m\n\u001b[1;32m     51\u001b[0m \u001b[0;34m\u001b[0m\u001b[0m\n\u001b[1;32m     52\u001b[0m             \u001b[0mself\u001b[0m\u001b[0;34m.\u001b[0m\u001b[0m_loss\u001b[0m \u001b[0;34m=\u001b[0m \u001b[0mtf\u001b[0m\u001b[0;34m.\u001b[0m\u001b[0mlosses\u001b[0m\u001b[0;34m.\u001b[0m\u001b[0mmean_squared_error\u001b[0m\u001b[0;34m(\u001b[0m\u001b[0mself\u001b[0m\u001b[0;34m.\u001b[0m\u001b[0m_probab\u001b[0m\u001b[0;34m,\u001b[0m \u001b[0mself\u001b[0m\u001b[0;34m.\u001b[0m\u001b[0m_is_equal\u001b[0m\u001b[0;34m)\u001b[0m\u001b[0;34m\u001b[0m\u001b[0m\n\u001b[0;32m---> 53\u001b[0;31m             self._optimizer_op = get_optimizer_op(self.optimizer, self._loss, \n\u001b[0m\u001b[1;32m     54\u001b[0m                                                   self.learning_rate)\n\u001b[1;32m     55\u001b[0m \u001b[0;34m\u001b[0m\u001b[0m\n",
      "\u001b[0;31mNameError\u001b[0m: name 'get_optimizer_op' is not defined"
     ]
    }
   ],
   "source": [
    "dnn = DNN_Comparer(5, 100)\n",
    "dnn.test()\n"
   ]
  },
  {
   "cell_type": "code",
   "execution_count": 47,
   "metadata": {},
   "outputs": [],
   "source": [
    "tf.nn.l2_loss?"
   ]
  },
  {
   "cell_type": "code",
   "execution_count": 39,
   "metadata": {},
   "outputs": [],
   "source": [
    "tf.Graph.get_name_scope?"
   ]
  },
  {
   "cell_type": "code",
   "execution_count": null,
   "metadata": {},
   "outputs": [],
   "source": []
  }
 ],
 "metadata": {
  "kernelspec": {
   "display_name": "Python 3",
   "language": "python",
   "name": "python3"
  },
  "language_info": {
   "codemirror_mode": {
    "name": "ipython",
    "version": 3
   },
   "file_extension": ".py",
   "mimetype": "text/x-python",
   "name": "python",
   "nbconvert_exporter": "python",
   "pygments_lexer": "ipython3",
   "version": "3.6.5"
  }
 },
 "nbformat": 4,
 "nbformat_minor": 2
}
