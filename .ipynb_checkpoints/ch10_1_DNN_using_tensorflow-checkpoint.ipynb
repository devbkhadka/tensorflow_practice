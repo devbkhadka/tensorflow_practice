{
 "cells": [
  {
   "cell_type": "code",
   "execution_count": 7,
   "metadata": {},
   "outputs": [
    {
     "ename": "SyntaxError",
     "evalue": "invalid syntax (<ipython-input-7-4fed4f511682>, line 27)",
     "output_type": "error",
     "traceback": [
      "\u001b[0;36m  File \u001b[0;32m\"<ipython-input-7-4fed4f511682>\"\u001b[0;36m, line \u001b[0;32m27\u001b[0m\n\u001b[0;31m    layer_name = \"input_layer\" if i=0 else (if i=len(layer_neurons)-1\u001b[0m\n\u001b[0m                                   ^\u001b[0m\n\u001b[0;31mSyntaxError\u001b[0m\u001b[0;31m:\u001b[0m invalid syntax\n"
     ]
    }
   ],
   "source": [
    "import tensorflow as tf\n",
    "\n",
    "\n",
    "\n",
    "def neural_layer(X, n_neurons, layer_name, apply_activation=True):\n",
    "    \n",
    "    n_inputs = int(X.get_shape()[1])\n",
    "    with tf.name_scope(layer_name):\n",
    "        std_dev = 2/sqrt(n_inputs)\n",
    "        init_w = tf.truncated_normal((n_inputs, n_neurons),mean=0, stddev=std_dev)\n",
    "        ## each column is weights of a neuron\n",
    "        \n",
    "        w = tf.Variable(init_w, name=\"w\")\n",
    "        b = tf.Variable(tf.zeros((n_neurons)))\n",
    "        \n",
    "        z = tf.matmul(X,w) + b\n",
    "        \n",
    "        if apply_activation:\n",
    "            return tf.nn.relu(z)\n",
    "        else:\n",
    "            return z\n",
    "\n",
    "\n",
    "def dnn(X, layer_neurons):\n",
    "    network = [X]\n",
    "    for i,n_neurons in enumerate(layer_neurons[1:-1]):\n",
    "        layer_name = \"input_layer\" if i==0 else (if i=len(layer_neurons)-1 \n",
    "                                                \"output_layer\" else \"hidden_layer\"+1)\n",
    "        layer = neural_layer(network[-1], n_neurons, )\n",
    "        network.append(layer)\n",
    "    \n",
    "        \n",
    "        "
   ]
  },
  {
   "cell_type": "code",
   "execution_count": 3,
   "metadata": {},
   "outputs": [
    {
     "name": "stderr",
     "output_type": "stream",
     "text": [
      "WARNING: Logging before flag parsing goes to stderr.\n",
      "W0731 15:21:18.642300 4531463616 deprecation_wrapper.py:119] From /Users/devbhadurkhadka/.pyenv/versions/anaconda3-5.2.0/envs/scikit_practice/lib/python3.6/site-packages/IPython/core/interactiveshell.py:1556: The name tf.truncated_normal is deprecated. Please use tf.random.truncated_normal instead.\n",
      "\n"
     ]
    }
   ],
   "source": [
    "n_inputs = 28*28\n",
    "layer_neurons = [200,300,10]\n",
    "\n",
    "X = tf.placeholder((None, n_inputs), dtype=tf.float32, name=\"X\")\n",
    "y = tf.placeholder((None,1), dtype=tf.float32, name=\"y\" )"
   ]
  },
  {
   "cell_type": "code",
   "execution_count": 5,
   "metadata": {},
   "outputs": [],
   "source": [
    "arr = []\n",
    "arr.append"
   ]
  },
  {
   "cell_type": "code",
   "execution_count": null,
   "metadata": {},
   "outputs": [],
   "source": []
  }
 ],
 "metadata": {
  "kernelspec": {
   "display_name": "Python 3",
   "language": "python",
   "name": "python3"
  },
  "language_info": {
   "codemirror_mode": {
    "name": "ipython",
    "version": 3
   },
   "file_extension": ".py",
   "mimetype": "text/x-python",
   "name": "python",
   "nbconvert_exporter": "python",
   "pygments_lexer": "ipython3",
   "version": "3.6.5"
  }
 },
 "nbformat": 4,
 "nbformat_minor": 2
}
