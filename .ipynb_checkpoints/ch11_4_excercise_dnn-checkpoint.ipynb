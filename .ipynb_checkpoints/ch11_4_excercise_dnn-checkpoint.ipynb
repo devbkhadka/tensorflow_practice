{
 "cells": [
  {
   "cell_type": "markdown",
   "metadata": {},
   "source": [
    "- Create a new DNN that reuses all the pre-trained hidden layers of the previous model, freezes them, and replaces the softmax output layer with a fresh new one. \n",
    "- Train this new DNN on digits 5 to 9, using only 100 images per digit, and time how long it takes. Despite this small number of examples, can you achieve high precision? \n",
    "- Try caching the frozen layers, and train the model again: how much faster is it now? \n",
    "- Try again reusing just four hidden layers instead of five. Can you achieve a higher precision? \n",
    "- Now unfreeze the top two hidden layers and continue training: can you get the model to perform even better?"
   ]
  },
  {
   "cell_type": "markdown",
   "metadata": {},
   "source": [
    "### Get Data"
   ]
  },
  {
   "cell_type": "code",
   "execution_count": 100,
   "metadata": {},
   "outputs": [],
   "source": [
    "from sklearn.model_selection import train_test_split\n",
    "import tensorflow as tf\n",
    "import numpy as np\n",
    "\n",
    "(x_train, y_train), (_, _) = tf.keras.datasets.mnist.load_data()\n",
    "x_train = x_train.astype(np.float32).reshape(-1, 28*28)/255.0\n",
    "\n",
    "train_indxes_5to9 = y_train>=5\n",
    "train_x_5to9 = x_train[train_indxes_5to9]\n",
    "train_y_5to9 = y_train[train_indxes_5to9]-5\n",
    "\n",
    "\n",
    "def get_random_indxs(y_train, group_value, count=10):\n",
    "    train_indxs = np.arange(len(y_train), dtype=np.int32)\n",
    "    group_indxs = train_indxs[y_train == group_value]\n",
    "    indxs = np.random.choice(group_indxs,count)\n",
    "    return indxs\n",
    "\n",
    "def get_samples_of_each_group(y_train, count=400):\n",
    "    rand_indxs = np.array([], dtype=np.int32)\n",
    "    for group_val in np.unique(y_train):\n",
    "        rand_indxs=np.r_[rand_indxs,get_random_indxs(y_train,group_val, count)]\n",
    "        \n",
    "#     np.random.shuffle(rand_indxs)\n",
    "    return rand_indxs\n",
    "\n",
    "rand_indxs = get_samples_of_each_group(train_y_5to9, count=500)\n",
    "train_x_5to9 = train_x_5to9[rand_indxs]\n",
    "train_y_5to9 = train_y_5to9[rand_indxs]\n",
    "\n",
    "\n",
    "train_x_5to9, val_x_5to9, train_y_5to9, val_y_5to9 = \\\n",
    "    train_test_split(train_x_5to9, train_y_5to9, test_size=.66, stratify=train_y_5to9)\n",
    "\n",
    "val_x_5to9, test_x_5to9, val_y_5to9, test_y_5to9 = \\\n",
    "    train_test_split(val_x_5to9,val_y_5to9, test_size=.6, stratify=val_y_5to9)"
   ]
  },
  {
   "cell_type": "code",
   "execution_count": 104,
   "metadata": {},
   "outputs": [
    {
     "data": {
      "text/plain": [
       "(array([0, 1, 2, 3, 4], dtype=uint8), array([132, 132, 132, 132, 132]))"
      ]
     },
     "execution_count": 104,
     "metadata": {},
     "output_type": "execute_result"
    }
   ],
   "source": [
    "np.unique(val_y_5to9, return_counts=True)"
   ]
  },
  {
   "cell_type": "markdown",
   "metadata": {},
   "source": [
    "### Create DNN_Classifier_Transfer\n",
    "which will transfer learning of DNN_Classifier from saved file"
   ]
  },
  {
   "cell_type": "code",
   "execution_count": 108,
   "metadata": {},
   "outputs": [],
   "source": [
    "from imp import reload\n",
    "import my_libs.dnn\n",
    "reload(my_libs.dnn)\n",
    "from my_libs.dnn import get_leaky_relu\n",
    "import tensorflow as tf\n",
    "from my_libs.dnn import DNN_Classifier, get_optimizer_op, get_validation_score, \\\n",
    "    get_softmax_xentropy_loss, get_batch\n",
    "from tensorflow.train import AdamOptimizer, MomentumOptimizer\n",
    "\n",
    "class DNN_Classifier_Transfer(DNN_Classifier):\n",
    "    def __init__(self, checkpoint_name, use_hidden_layers=0):\n",
    "        DNN_Classifier.__init__(self)\n",
    "        self._checkpoint_name = checkpoint_name\n",
    "        self._batch_norm_update_ops = None\n",
    "        self.use_hidden_layers = use_hidden_layers\n",
    "        \n",
    "    \n",
    "    def _initialize_session_and_graph(self):\n",
    "        DNN_Classifier._restore_graph(self,self._checkpoint_name)\n",
    "        \n",
    "        self.restore_n_hidden_layers()\n",
    "        \n",
    "         \n",
    "        trainable_variables = tf.get_collection(tf.GraphKeys.TRAINABLE_VARIABLES, \n",
    "                                                scope=\"output\")\n",
    "        self._batch_norm_update_ops = self._graph.get_collection(tf.GraphKeys.UPDATE_OPS)\n",
    "        \n",
    "        for i in range(self.n_hidden_layers, self.use_hidden_layers, -1):\n",
    "            layer_scope = \"hidden%d\"%(i)\n",
    "            layer_variables = tf.get_collection(tf.GraphKeys.TRAINABLE_VARIABLES, \n",
    "                                                scope=layer_scope)\n",
    "            trainable_variables = trainable_variables+layer_variables\n",
    "            \n",
    "        for i in range(self.n_hidden_layers, self.use_hidden_layers, -1):\n",
    "            if len(self._batch_norm_update_ops)>0:\n",
    "                batch_norm_scope = \"batch_normalization_%d\"%(i-1)\n",
    "                batch_norm_variables = tf.get_collection(tf.GraphKeys.TRAINABLE_VARIABLES, \n",
    "                                                    scope= batch_norm_scope)\n",
    "                trainable_variables = trainable_variables+batch_norm_variables\n",
    "            \n",
    "            \n",
    "        print(trainable_variables)\n",
    "        \n",
    "        optimizer = AdamOptimizer(0.01, name=\"adam2\")\n",
    "        self._optimizer_op = optimizer.minimize(self._loss, var_list=trainable_variables)\n",
    "        \n",
    "        DNN_Classifier._restore_session(self, self._checkpoint_name)\n",
    "        return self._graph\n",
    "    \n",
    "    def fit(self, x, y, val_x, val_y):\n",
    "        self._initialize_session_and_graph()\n",
    "        \n",
    "        with self._session.as_default() as sess:\n",
    "            for epoch in range(100):\n",
    "                for batch_x, batch_y in get_batch(x,y, 10):\n",
    "                    ops = [self._loss, self._optimizer_op]\n",
    "#                     if len(self._batch_norm_update_ops)>0:\n",
    "#                         opts = ops+self._batch_norm_update_ops\n",
    "                        \n",
    "                    res = sess.run(ops, \n",
    "                            feed_dict={\n",
    "                                self._x: batch_x,\n",
    "                                self._y: batch_y,\n",
    "                                self._is_training: True\n",
    "                            })\n",
    "                \n",
    "                tloss = res[0]\n",
    "                score, vloss = sess.run([self._validation_score, self._loss], feed_dict={\n",
    "                                self._x: val_x,\n",
    "                                self._y: val_y,\n",
    "                                self._is_training: False\n",
    "                            })\n",
    "                print(\"epoch: %d, train loss: %f, score: %f, loss: %f\"%(epoch, tloss, score, vloss))\n",
    "    \n",
    "    def restore_n_hidden_layers(self):\n",
    "        i=1\n",
    "        tensors = []\n",
    "        while True:\n",
    "            try:       \n",
    "                tensor = self._graph.get_tensor_by_name(\"DNN/hiden%d_out:0\"%i)\n",
    "                tensors.append(tensor)\n",
    "                i+=1\n",
    "            except:\n",
    "                break\n",
    "        self.n_hidden_layers = i-1\n",
    "        \n",
    "        "
   ]
  },
  {
   "cell_type": "code",
   "execution_count": 109,
   "metadata": {},
   "outputs": [
    {
     "name": "stdout",
     "output_type": "stream",
     "text": [
      "[<tf.Variable 'output/kernel:0' shape=(100, 5) dtype=float32_ref>, <tf.Variable 'output/bias:0' shape=(5,) dtype=float32_ref>, <tf.Variable 'hidden5/kernel:0' shape=(100, 100) dtype=float32_ref>, <tf.Variable 'hidden5/bias:0' shape=(100,) dtype=float32_ref>]\n",
      "epoch: 0, train loss: 1.113355, score: 0.406061, loss: 1.441888\n",
      "epoch: 1, train loss: 1.189716, score: 0.477273, loss: 1.307386\n",
      "epoch: 2, train loss: 0.960533, score: 0.481818, loss: 1.275557\n",
      "epoch: 3, train loss: 0.938578, score: 0.515152, loss: 1.477030\n",
      "epoch: 4, train loss: 0.802490, score: 0.557576, loss: 1.454981\n",
      "epoch: 5, train loss: 0.767080, score: 0.551515, loss: 1.439817\n",
      "epoch: 6, train loss: 0.721956, score: 0.525758, loss: 1.239718\n",
      "epoch: 7, train loss: 1.377895, score: 0.536364, loss: 1.464743\n",
      "epoch: 8, train loss: 1.128074, score: 0.596970, loss: 1.462707\n",
      "epoch: 9, train loss: 1.465357, score: 0.572727, loss: 1.234018\n",
      "epoch: 10, train loss: 0.592372, score: 0.584848, loss: 1.703248\n",
      "epoch: 11, train loss: 1.004821, score: 0.578788, loss: 2.326497\n",
      "epoch: 12, train loss: 1.178016, score: 0.574242, loss: 1.725895\n",
      "epoch: 13, train loss: 0.990296, score: 0.528788, loss: 1.718939\n",
      "epoch: 14, train loss: 1.245860, score: 0.586364, loss: 1.430168\n",
      "epoch: 15, train loss: 0.923881, score: 0.589394, loss: 1.493146\n",
      "epoch: 16, train loss: 1.092576, score: 0.607576, loss: 1.365593\n",
      "epoch: 17, train loss: 0.677944, score: 0.575758, loss: 2.028084\n",
      "epoch: 18, train loss: 0.738179, score: 0.536364, loss: 1.633888\n",
      "epoch: 19, train loss: 1.100810, score: 0.556061, loss: 1.581376\n",
      "epoch: 20, train loss: 0.780268, score: 0.569697, loss: 1.538427\n",
      "epoch: 21, train loss: 0.889320, score: 0.575758, loss: 1.637931\n",
      "epoch: 22, train loss: 1.029718, score: 0.583333, loss: 1.517274\n",
      "epoch: 23, train loss: 1.213634, score: 0.578788, loss: 1.478387\n",
      "epoch: 24, train loss: 0.813393, score: 0.569697, loss: 1.565116\n",
      "epoch: 25, train loss: 0.959584, score: 0.571212, loss: 1.607614\n",
      "epoch: 26, train loss: 0.929433, score: 0.581818, loss: 1.707858\n",
      "epoch: 27, train loss: 0.733983, score: 0.600000, loss: 1.670570\n",
      "epoch: 28, train loss: 0.845352, score: 0.540909, loss: 1.552821\n",
      "epoch: 29, train loss: 0.845631, score: 0.580303, loss: 1.558442\n",
      "epoch: 30, train loss: 0.762841, score: 0.575758, loss: 1.533577\n",
      "epoch: 31, train loss: 1.462129, score: 0.574242, loss: 1.594916\n",
      "epoch: 32, train loss: 2.393401, score: 0.568182, loss: 1.764731\n",
      "epoch: 33, train loss: 0.898638, score: 0.581818, loss: 2.038775\n",
      "epoch: 34, train loss: 1.138510, score: 0.571212, loss: 1.904417\n",
      "epoch: 35, train loss: 1.637410, score: 0.568182, loss: 2.484212\n",
      "epoch: 36, train loss: 1.090860, score: 0.572727, loss: 2.125050\n",
      "epoch: 37, train loss: 0.997581, score: 0.583333, loss: 1.918047\n",
      "epoch: 38, train loss: 0.769877, score: 0.546970, loss: 1.833608\n",
      "epoch: 39, train loss: 0.847946, score: 0.575758, loss: 2.320715\n",
      "epoch: 40, train loss: 2.217649, score: 0.569697, loss: 3.383552\n",
      "epoch: 41, train loss: 1.092363, score: 0.575758, loss: 2.161748\n",
      "epoch: 42, train loss: 1.064660, score: 0.577273, loss: 1.844195\n",
      "epoch: 43, train loss: 1.201168, score: 0.537879, loss: 1.995535\n",
      "epoch: 44, train loss: 0.823651, score: 0.553030, loss: 1.976523\n",
      "epoch: 45, train loss: 0.678764, score: 0.598485, loss: 2.791970\n",
      "epoch: 46, train loss: 0.435133, score: 0.586364, loss: 2.215642\n",
      "epoch: 47, train loss: 0.970149, score: 0.584848, loss: 2.222302\n",
      "epoch: 48, train loss: 0.629256, score: 0.581818, loss: 2.233682\n",
      "epoch: 49, train loss: 1.046524, score: 0.565152, loss: 2.361455\n",
      "epoch: 50, train loss: 1.061047, score: 0.566667, loss: 2.276643\n",
      "epoch: 51, train loss: 1.026130, score: 0.583333, loss: 2.109175\n",
      "epoch: 52, train loss: 2.149496, score: 0.586364, loss: 2.228263\n",
      "epoch: 53, train loss: 0.752179, score: 0.584848, loss: 2.281444\n",
      "epoch: 54, train loss: 0.826706, score: 0.571212, loss: 2.183168\n",
      "epoch: 55, train loss: 1.117085, score: 0.581818, loss: 2.173793\n",
      "epoch: 56, train loss: 1.272162, score: 0.587879, loss: 2.215748\n",
      "epoch: 57, train loss: 0.749601, score: 0.572727, loss: 2.239527\n",
      "epoch: 58, train loss: 1.099156, score: 0.557576, loss: 2.437796\n",
      "epoch: 59, train loss: 0.749221, score: 0.583333, loss: 3.114346\n",
      "epoch: 60, train loss: 0.832119, score: 0.583333, loss: 2.470967\n",
      "epoch: 61, train loss: 0.922263, score: 0.569697, loss: 2.460210\n",
      "epoch: 62, train loss: 1.030839, score: 0.560606, loss: 2.280214\n",
      "epoch: 63, train loss: 0.751225, score: 0.557576, loss: 2.337947\n",
      "epoch: 64, train loss: 0.834910, score: 0.580303, loss: 2.414123\n",
      "epoch: 65, train loss: 1.008305, score: 0.584848, loss: 2.360948\n",
      "epoch: 66, train loss: 5.697904, score: 0.569697, loss: 2.848438\n",
      "epoch: 67, train loss: 1.298113, score: 0.575758, loss: 2.625649\n",
      "epoch: 68, train loss: 0.983031, score: 0.559091, loss: 2.269785\n",
      "epoch: 69, train loss: 0.989882, score: 0.574242, loss: 2.398280\n",
      "epoch: 70, train loss: 1.702727, score: 0.556061, loss: 2.770880\n",
      "epoch: 71, train loss: 0.674447, score: 0.510606, loss: 4.665791\n",
      "epoch: 72, train loss: 0.714378, score: 0.575758, loss: 2.723045\n",
      "epoch: 73, train loss: 0.931017, score: 0.572727, loss: 3.236433\n",
      "epoch: 74, train loss: 1.136612, score: 0.575758, loss: 2.911866\n",
      "epoch: 75, train loss: 0.758250, score: 0.583333, loss: 2.840883\n",
      "epoch: 76, train loss: 1.825475, score: 0.584848, loss: 2.955152\n",
      "epoch: 77, train loss: 1.083668, score: 0.583333, loss: 2.732916\n",
      "epoch: 78, train loss: 0.876270, score: 0.583333, loss: 2.988348\n",
      "epoch: 79, train loss: 0.798414, score: 0.572727, loss: 3.342148\n",
      "epoch: 80, train loss: 0.603050, score: 0.574242, loss: 3.831807\n",
      "epoch: 81, train loss: 0.798938, score: 0.566667, loss: 3.479410\n",
      "epoch: 82, train loss: 1.043604, score: 0.578788, loss: 4.790630\n",
      "epoch: 83, train loss: 0.889868, score: 0.589394, loss: 4.482511\n",
      "epoch: 84, train loss: 0.636679, score: 0.565152, loss: 4.707834\n",
      "epoch: 85, train loss: 0.522498, score: 0.580303, loss: 4.210572\n",
      "epoch: 86, train loss: 0.601821, score: 0.566667, loss: 4.495111\n",
      "epoch: 87, train loss: 0.654804, score: 0.574242, loss: 3.248943\n",
      "epoch: 88, train loss: 0.759076, score: 0.571212, loss: 4.606521\n",
      "epoch: 89, train loss: 0.712342, score: 0.569697, loss: 4.882360\n",
      "epoch: 90, train loss: 0.781281, score: 0.587879, loss: 4.508084\n",
      "epoch: 91, train loss: 0.968651, score: 0.565152, loss: 3.937959\n",
      "epoch: 92, train loss: 0.584510, score: 0.557576, loss: 5.087581\n",
      "epoch: 93, train loss: 1.001375, score: 0.566667, loss: 6.766093\n",
      "epoch: 94, train loss: 1.078555, score: 0.598485, loss: 5.234495\n",
      "epoch: 95, train loss: 1.178490, score: 0.587879, loss: 4.989573\n",
      "epoch: 96, train loss: 0.775235, score: 0.583333, loss: 6.268406\n",
      "epoch: 97, train loss: 1.199735, score: 0.575758, loss: 5.281791\n",
      "epoch: 98, train loss: 1.039052, score: 0.533333, loss: 6.621413\n",
      "epoch: 99, train loss: 0.699171, score: 0.557576, loss: 7.554681\n"
     ]
    }
   ],
   "source": [
    "# np.random.seed(5)\n",
    "# tf.random.set_random_seed(5)\n",
    "\n",
    "transfer_classifier = DNN_Classifier_Transfer(\"Mnist-0to4-best1\", \n",
    "                                              use_hidden_layers=4)\n",
    "transfer_classifier.fit(train_x_5to9, train_y_5to9, val_x_5to9, val_y_5to9)\n"
   ]
  },
  {
   "cell_type": "code",
   "execution_count": 92,
   "metadata": {},
   "outputs": [
    {
     "name": "stdout",
     "output_type": "stream",
     "text": [
      "[<tf.Variable 'output/kernel:0' shape=(120, 5) dtype=float32_ref>, <tf.Variable 'output/bias:0' shape=(5,) dtype=float32_ref>, <tf.Variable 'hidden5/kernel:0' shape=(120, 120) dtype=float32_ref>, <tf.Variable 'hidden5/bias:0' shape=(120,) dtype=float32_ref>, <tf.Variable 'batch_normalization_4/gamma:0' shape=(120,) dtype=float32_ref>, <tf.Variable 'batch_normalization_4/beta:0' shape=(120,) dtype=float32_ref>]\n"
     ]
    }
   ],
   "source": [
    "transfer_classifier = DNN_Classifier_Transfer(\"Mnist-0to4-best_batch_norm\", \n",
    "                                              use_hidden_layers=4)\n",
    "graph = transfer_classifier._initialize_session_and_graph()\n",
    "\n",
    "var1= graph.get_collection(tf.GraphKeys.TRAINABLE_VARIABLES, \n",
    "                                                scope=\"output\")[1]\n",
    "# tf.get_collection(tf.GraphKeys.TRAINABLE_VARIABLES, scope=\"batch_normalization\")\n",
    "# graph.get_collection(scope=\"DNN/batch_normalization\")"
   ]
  },
  {
   "cell_type": "code",
   "execution_count": 94,
   "metadata": {},
   "outputs": [
    {
     "data": {
      "text/plain": [
       "<bound method RefVariable.value of <tf.Variable 'output/bias:0' shape=(5,) dtype=float32_ref>>"
      ]
     },
     "execution_count": 94,
     "metadata": {},
     "output_type": "execute_result"
    }
   ],
   "source": []
  },
  {
   "cell_type": "markdown",
   "metadata": {},
   "source": [
    "### Create DNN_Classifier_Frozen\n",
    "- Same as DNN_Classifier_Transfer but it will pre calculate output of previous layer for all data"
   ]
  },
  {
   "cell_type": "code",
   "execution_count": 112,
   "metadata": {},
   "outputs": [],
   "source": [
    "from imp import reload\n",
    "import my_libs\n",
    "reload(my_libs.dnn)\n",
    "from my_libs.dnn import DNN_Classifier\n",
    "\n",
    "class DNN_Classifier_Frozen(DNN_Classifier_Transfer):\n",
    "        \n",
    "    def _initialize_session_and_graph(self):\n",
    "        DNN_Classifier_Transfer._initialize_session_and_graph(self)\n",
    "        forzen_output_name = \"DNN/hiden%d_out:0\"%(self.use_hidden_layers)\n",
    "        self._frozen_out = self._graph.get_tensor_by_name(forzen_output_name)\n",
    "        ## replace input placeholder _x with output of hidden layer _frozen_out\n",
    "        self._old_x = self._x\n",
    "        self._x = self._frozen_out\n",
    "    \n",
    "    \n",
    "    def fit(self, x, y, val_x, val_y):\n",
    "        self._initialize_session_and_graph()\n",
    "        with self._session.as_default() as sess:\n",
    "            self._x_frozen_out = self._frozen_out.eval(session=sess,feed_dict={self._old_x:x})\n",
    "            self._val_x_frozen_out = self._frozen_out.eval(feed_dict={self._old_x:val_x})\n",
    "            \n",
    "        return DNN_Classifier.fit(self, self._x_frozen_out, y, self._val_x_frozen_out, val_y)\n",
    "    "
   ]
  },
  {
   "cell_type": "code",
   "execution_count": 113,
   "metadata": {},
   "outputs": [
    {
     "name": "stdout",
     "output_type": "stream",
     "text": [
      "[<tf.Variable 'output/kernel:0' shape=(120, 5) dtype=float32_ref>, <tf.Variable 'output/bias:0' shape=(5,) dtype=float32_ref>, <tf.Variable 'hidden5/kernel:0' shape=(120, 120) dtype=float32_ref>, <tf.Variable 'hidden5/bias:0' shape=(120,) dtype=float32_ref>, <tf.Variable 'batch_normalization_4/gamma:0' shape=(120,) dtype=float32_ref>, <tf.Variable 'batch_normalization_4/beta:0' shape=(120,) dtype=float32_ref>]\n",
      "[<tf.Variable 'output/kernel:0' shape=(120, 5) dtype=float32_ref>, <tf.Variable 'output/bias:0' shape=(5,) dtype=float32_ref>, <tf.Variable 'hidden5/kernel:0' shape=(120, 120) dtype=float32_ref>, <tf.Variable 'hidden5/bias:0' shape=(120,) dtype=float32_ref>, <tf.Variable 'batch_normalization_4/gamma:0' shape=(120,) dtype=float32_ref>, <tf.Variable 'batch_normalization_4/beta:0' shape=(120,) dtype=float32_ref>]\n"
     ]
    },
    {
     "ename": "InvalidArgumentError",
     "evalue": "You must feed a value for placeholder tensor 'x' with dtype float and shape [?,784]\n\t [[node x (defined at /Volumes/Projects/Machine Learning/tensorflow_practice/my_libs/dnn.py:229) ]]\n\nOriginal stack trace for 'x':\n  File \"/Users/devbhadurkhadka/.pyenv/versions/anaconda3-5.2.0/envs/scikit_practice/lib/python3.6/runpy.py\", line 193, in _run_module_as_main\n    \"__main__\", mod_spec)\n  File \"/Users/devbhadurkhadka/.pyenv/versions/anaconda3-5.2.0/envs/scikit_practice/lib/python3.6/runpy.py\", line 85, in _run_code\n    exec(code, run_globals)\n  File \"/Users/devbhadurkhadka/.pyenv/versions/anaconda3-5.2.0/envs/scikit_practice/lib/python3.6/site-packages/ipykernel_launcher.py\", line 16, in <module>\n    app.launch_new_instance()\n  File \"/Users/devbhadurkhadka/.pyenv/versions/anaconda3-5.2.0/envs/scikit_practice/lib/python3.6/site-packages/traitlets/config/application.py\", line 658, in launch_instance\n    app.start()\n  File \"/Users/devbhadurkhadka/.pyenv/versions/anaconda3-5.2.0/envs/scikit_practice/lib/python3.6/site-packages/ipykernel/kernelapp.py\", line 486, in start\n    self.io_loop.start()\n  File \"/Users/devbhadurkhadka/.pyenv/versions/anaconda3-5.2.0/envs/scikit_practice/lib/python3.6/site-packages/tornado/platform/asyncio.py\", line 127, in start\n    self.asyncio_loop.run_forever()\n  File \"/Users/devbhadurkhadka/.pyenv/versions/anaconda3-5.2.0/envs/scikit_practice/lib/python3.6/asyncio/base_events.py\", line 422, in run_forever\n    self._run_once()\n  File \"/Users/devbhadurkhadka/.pyenv/versions/anaconda3-5.2.0/envs/scikit_practice/lib/python3.6/asyncio/base_events.py\", line 1432, in _run_once\n    handle._run()\n  File \"/Users/devbhadurkhadka/.pyenv/versions/anaconda3-5.2.0/envs/scikit_practice/lib/python3.6/asyncio/events.py\", line 145, in _run\n    self._callback(*self._args)\n  File \"/Users/devbhadurkhadka/.pyenv/versions/anaconda3-5.2.0/envs/scikit_practice/lib/python3.6/site-packages/tornado/platform/asyncio.py\", line 117, in _handle_events\n    handler_func(fileobj, events)\n  File \"/Users/devbhadurkhadka/.pyenv/versions/anaconda3-5.2.0/envs/scikit_practice/lib/python3.6/site-packages/tornado/stack_context.py\", line 276, in null_wrapper\n    return fn(*args, **kwargs)\n  File \"/Users/devbhadurkhadka/.pyenv/versions/anaconda3-5.2.0/envs/scikit_practice/lib/python3.6/site-packages/zmq/eventloop/zmqstream.py\", line 450, in _handle_events\n    self._handle_recv()\n  File \"/Users/devbhadurkhadka/.pyenv/versions/anaconda3-5.2.0/envs/scikit_practice/lib/python3.6/site-packages/zmq/eventloop/zmqstream.py\", line 480, in _handle_recv\n    self._run_callback(callback, msg)\n  File \"/Users/devbhadurkhadka/.pyenv/versions/anaconda3-5.2.0/envs/scikit_practice/lib/python3.6/site-packages/zmq/eventloop/zmqstream.py\", line 432, in _run_callback\n    callback(*args, **kwargs)\n  File \"/Users/devbhadurkhadka/.pyenv/versions/anaconda3-5.2.0/envs/scikit_practice/lib/python3.6/site-packages/tornado/stack_context.py\", line 276, in null_wrapper\n    return fn(*args, **kwargs)\n  File \"/Users/devbhadurkhadka/.pyenv/versions/anaconda3-5.2.0/envs/scikit_practice/lib/python3.6/site-packages/ipykernel/kernelbase.py\", line 283, in dispatcher\n    return self.dispatch_shell(stream, msg)\n  File \"/Users/devbhadurkhadka/.pyenv/versions/anaconda3-5.2.0/envs/scikit_practice/lib/python3.6/site-packages/ipykernel/kernelbase.py\", line 233, in dispatch_shell\n    handler(stream, idents, msg)\n  File \"/Users/devbhadurkhadka/.pyenv/versions/anaconda3-5.2.0/envs/scikit_practice/lib/python3.6/site-packages/ipykernel/kernelbase.py\", line 399, in execute_request\n    user_expressions, allow_stdin)\n  File \"/Users/devbhadurkhadka/.pyenv/versions/anaconda3-5.2.0/envs/scikit_practice/lib/python3.6/site-packages/ipykernel/ipkernel.py\", line 208, in do_execute\n    res = shell.run_cell(code, store_history=store_history, silent=silent)\n  File \"/Users/devbhadurkhadka/.pyenv/versions/anaconda3-5.2.0/envs/scikit_practice/lib/python3.6/site-packages/ipykernel/zmqshell.py\", line 537, in run_cell\n    return super(ZMQInteractiveShell, self).run_cell(*args, **kwargs)\n  File \"/Users/devbhadurkhadka/.pyenv/versions/anaconda3-5.2.0/envs/scikit_practice/lib/python3.6/site-packages/IPython/core/interactiveshell.py\", line 2662, in run_cell\n    raw_cell, store_history, silent, shell_futures)\n  File \"/Users/devbhadurkhadka/.pyenv/versions/anaconda3-5.2.0/envs/scikit_practice/lib/python3.6/site-packages/IPython/core/interactiveshell.py\", line 2785, in _run_cell\n    interactivity=interactivity, compiler=compiler, result=result)\n  File \"/Users/devbhadurkhadka/.pyenv/versions/anaconda3-5.2.0/envs/scikit_practice/lib/python3.6/site-packages/IPython/core/interactiveshell.py\", line 2909, in run_ast_nodes\n    if self.run_code(code, result):\n  File \"/Users/devbhadurkhadka/.pyenv/versions/anaconda3-5.2.0/envs/scikit_practice/lib/python3.6/site-packages/IPython/core/interactiveshell.py\", line 2963, in run_code\n    exec(code_obj, self.user_global_ns, self.user_ns)\n  File \"<ipython-input-113-f7319ec1cc85>\", line 5, in <module>\n    frozen_classifier.fit(train_x_5to9, train_y_5to9, val_x_5to9, val_y_5to9)\n  File \"<ipython-input-112-ced8d64a46b0>\", line 23, in fit\n    return DNN_Classifier.fit(self, self._x_frozen_out, y, self._val_x_frozen_out, val_y)\n  File \"/Volumes/Projects/Machine Learning/tensorflow_practice/my_libs/dnn.py\", line 154, in fit\n    self._initialize_session_and_graph()\n  File \"<ipython-input-112-ced8d64a46b0>\", line 9, in _initialize_session_and_graph\n    DNN_Classifier_Transfer._initialize_session_and_graph(self)\n  File \"<ipython-input-108-2146e1df1a84>\", line 18, in _initialize_session_and_graph\n    DNN_Classifier._restore_graph(self,self._checkpoint_name)\n  File \"/Volumes/Projects/Machine Learning/tensorflow_practice/my_libs/dnn.py\", line 229, in _restore_graph\n    self._imported_meta = tf.train.import_meta_graph(\"%s.meta\"%self._get_save_path(name))\n  File \"/Users/devbhadurkhadka/.pyenv/versions/anaconda3-5.2.0/envs/scikit_practice/lib/python3.6/site-packages/tensorflow/python/training/saver.py\", line 1449, in import_meta_graph\n    **kwargs)[0]\n  File \"/Users/devbhadurkhadka/.pyenv/versions/anaconda3-5.2.0/envs/scikit_practice/lib/python3.6/site-packages/tensorflow/python/training/saver.py\", line 1473, in _import_meta_graph_with_return_elements\n    **kwargs))\n  File \"/Users/devbhadurkhadka/.pyenv/versions/anaconda3-5.2.0/envs/scikit_practice/lib/python3.6/site-packages/tensorflow/python/framework/meta_graph.py\", line 857, in import_scoped_meta_graph_with_return_elements\n    return_elements=return_elements)\n  File \"/Users/devbhadurkhadka/.pyenv/versions/anaconda3-5.2.0/envs/scikit_practice/lib/python3.6/site-packages/tensorflow/python/util/deprecation.py\", line 507, in new_func\n    return func(*args, **kwargs)\n  File \"/Users/devbhadurkhadka/.pyenv/versions/anaconda3-5.2.0/envs/scikit_practice/lib/python3.6/site-packages/tensorflow/python/framework/importer.py\", line 443, in import_graph_def\n    _ProcessNewOps(graph)\n  File \"/Users/devbhadurkhadka/.pyenv/versions/anaconda3-5.2.0/envs/scikit_practice/lib/python3.6/site-packages/tensorflow/python/framework/importer.py\", line 236, in _ProcessNewOps\n    for new_op in graph._add_new_tf_operations(compute_devices=False):  # pylint: disable=protected-access\n  File \"/Users/devbhadurkhadka/.pyenv/versions/anaconda3-5.2.0/envs/scikit_practice/lib/python3.6/site-packages/tensorflow/python/framework/ops.py\", line 3751, in _add_new_tf_operations\n    for c_op in c_api_util.new_tf_operations(self)\n  File \"/Users/devbhadurkhadka/.pyenv/versions/anaconda3-5.2.0/envs/scikit_practice/lib/python3.6/site-packages/tensorflow/python/framework/ops.py\", line 3751, in <listcomp>\n    for c_op in c_api_util.new_tf_operations(self)\n  File \"/Users/devbhadurkhadka/.pyenv/versions/anaconda3-5.2.0/envs/scikit_practice/lib/python3.6/site-packages/tensorflow/python/framework/ops.py\", line 3641, in _create_op_from_tf_operation\n    ret = Operation(c_op, self)\n  File \"/Users/devbhadurkhadka/.pyenv/versions/anaconda3-5.2.0/envs/scikit_practice/lib/python3.6/site-packages/tensorflow/python/framework/ops.py\", line 2005, in __init__\n    self._traceback = tf_stack.extract_stack()\n",
     "output_type": "error",
     "traceback": [
      "\u001b[0;31m---------------------------------------------------------------------------\u001b[0m",
      "\u001b[0;31mInvalidArgumentError\u001b[0m                      Traceback (most recent call last)",
      "\u001b[0;32m~/.pyenv/versions/anaconda3-5.2.0/envs/scikit_practice/lib/python3.6/site-packages/tensorflow/python/client/session.py\u001b[0m in \u001b[0;36m_do_call\u001b[0;34m(self, fn, *args)\u001b[0m\n\u001b[1;32m   1355\u001b[0m     \u001b[0;32mtry\u001b[0m\u001b[0;34m:\u001b[0m\u001b[0;34m\u001b[0m\u001b[0m\n\u001b[0;32m-> 1356\u001b[0;31m       \u001b[0;32mreturn\u001b[0m \u001b[0mfn\u001b[0m\u001b[0;34m(\u001b[0m\u001b[0;34m*\u001b[0m\u001b[0margs\u001b[0m\u001b[0;34m)\u001b[0m\u001b[0;34m\u001b[0m\u001b[0m\n\u001b[0m\u001b[1;32m   1357\u001b[0m     \u001b[0;32mexcept\u001b[0m \u001b[0merrors\u001b[0m\u001b[0;34m.\u001b[0m\u001b[0mOpError\u001b[0m \u001b[0;32mas\u001b[0m \u001b[0me\u001b[0m\u001b[0;34m:\u001b[0m\u001b[0;34m\u001b[0m\u001b[0m\n",
      "\u001b[0;32m~/.pyenv/versions/anaconda3-5.2.0/envs/scikit_practice/lib/python3.6/site-packages/tensorflow/python/client/session.py\u001b[0m in \u001b[0;36m_run_fn\u001b[0;34m(feed_dict, fetch_list, target_list, options, run_metadata)\u001b[0m\n\u001b[1;32m   1340\u001b[0m       return self._call_tf_sessionrun(\n\u001b[0;32m-> 1341\u001b[0;31m           options, feed_dict, fetch_list, target_list, run_metadata)\n\u001b[0m\u001b[1;32m   1342\u001b[0m \u001b[0;34m\u001b[0m\u001b[0m\n",
      "\u001b[0;32m~/.pyenv/versions/anaconda3-5.2.0/envs/scikit_practice/lib/python3.6/site-packages/tensorflow/python/client/session.py\u001b[0m in \u001b[0;36m_call_tf_sessionrun\u001b[0;34m(self, options, feed_dict, fetch_list, target_list, run_metadata)\u001b[0m\n\u001b[1;32m   1428\u001b[0m         \u001b[0mself\u001b[0m\u001b[0;34m.\u001b[0m\u001b[0m_session\u001b[0m\u001b[0;34m,\u001b[0m \u001b[0moptions\u001b[0m\u001b[0;34m,\u001b[0m \u001b[0mfeed_dict\u001b[0m\u001b[0;34m,\u001b[0m \u001b[0mfetch_list\u001b[0m\u001b[0;34m,\u001b[0m \u001b[0mtarget_list\u001b[0m\u001b[0;34m,\u001b[0m\u001b[0;34m\u001b[0m\u001b[0m\n\u001b[0;32m-> 1429\u001b[0;31m         run_metadata)\n\u001b[0m\u001b[1;32m   1430\u001b[0m \u001b[0;34m\u001b[0m\u001b[0m\n",
      "\u001b[0;31mInvalidArgumentError\u001b[0m: You must feed a value for placeholder tensor 'x' with dtype float and shape [?,784]\n\t [[{{node x}}]]",
      "\nDuring handling of the above exception, another exception occurred:\n",
      "\u001b[0;31mInvalidArgumentError\u001b[0m                      Traceback (most recent call last)",
      "\u001b[0;32m<ipython-input-113-f7319ec1cc85>\u001b[0m in \u001b[0;36m<module>\u001b[0;34m()\u001b[0m\n\u001b[1;32m      3\u001b[0m \u001b[0;34m\u001b[0m\u001b[0m\n\u001b[1;32m      4\u001b[0m \u001b[0mfrozen_classifier\u001b[0m \u001b[0;34m=\u001b[0m \u001b[0mDNN_Classifier_Frozen\u001b[0m\u001b[0;34m(\u001b[0m\u001b[0;34m\"Mnist-0to4-best_batch_norm\"\u001b[0m\u001b[0;34m,\u001b[0m \u001b[0muse_hidden_layers\u001b[0m\u001b[0;34m=\u001b[0m\u001b[0;36m4\u001b[0m\u001b[0;34m)\u001b[0m\u001b[0;34m\u001b[0m\u001b[0m\n\u001b[0;32m----> 5\u001b[0;31m \u001b[0mfrozen_classifier\u001b[0m\u001b[0;34m.\u001b[0m\u001b[0mfit\u001b[0m\u001b[0;34m(\u001b[0m\u001b[0mtrain_x_5to9\u001b[0m\u001b[0;34m,\u001b[0m \u001b[0mtrain_y_5to9\u001b[0m\u001b[0;34m,\u001b[0m \u001b[0mval_x_5to9\u001b[0m\u001b[0;34m,\u001b[0m \u001b[0mval_y_5to9\u001b[0m\u001b[0;34m)\u001b[0m\u001b[0;34m\u001b[0m\u001b[0m\n\u001b[0m",
      "\u001b[0;32m<ipython-input-112-ced8d64a46b0>\u001b[0m in \u001b[0;36mfit\u001b[0;34m(self, x, y, val_x, val_y)\u001b[0m\n\u001b[1;32m     21\u001b[0m             \u001b[0mself\u001b[0m\u001b[0;34m.\u001b[0m\u001b[0m_val_x_frozen_out\u001b[0m \u001b[0;34m=\u001b[0m \u001b[0mself\u001b[0m\u001b[0;34m.\u001b[0m\u001b[0m_frozen_out\u001b[0m\u001b[0;34m.\u001b[0m\u001b[0meval\u001b[0m\u001b[0;34m(\u001b[0m\u001b[0mfeed_dict\u001b[0m\u001b[0;34m=\u001b[0m\u001b[0;34m{\u001b[0m\u001b[0mself\u001b[0m\u001b[0;34m.\u001b[0m\u001b[0m_old_x\u001b[0m\u001b[0;34m:\u001b[0m\u001b[0mval_x\u001b[0m\u001b[0;34m}\u001b[0m\u001b[0;34m)\u001b[0m\u001b[0;34m\u001b[0m\u001b[0m\n\u001b[1;32m     22\u001b[0m \u001b[0;34m\u001b[0m\u001b[0m\n\u001b[0;32m---> 23\u001b[0;31m         \u001b[0;32mreturn\u001b[0m \u001b[0mDNN_Classifier\u001b[0m\u001b[0;34m.\u001b[0m\u001b[0mfit\u001b[0m\u001b[0;34m(\u001b[0m\u001b[0mself\u001b[0m\u001b[0;34m,\u001b[0m \u001b[0mself\u001b[0m\u001b[0;34m.\u001b[0m\u001b[0m_x_frozen_out\u001b[0m\u001b[0;34m,\u001b[0m \u001b[0my\u001b[0m\u001b[0;34m,\u001b[0m \u001b[0mself\u001b[0m\u001b[0;34m.\u001b[0m\u001b[0m_val_x_frozen_out\u001b[0m\u001b[0;34m,\u001b[0m \u001b[0mval_y\u001b[0m\u001b[0;34m)\u001b[0m\u001b[0;34m\u001b[0m\u001b[0m\n\u001b[0m\u001b[1;32m     24\u001b[0m \u001b[0;34m\u001b[0m\u001b[0m\n",
      "\u001b[0;32m/Volumes/Projects/Machine Learning/tensorflow_practice/my_libs/dnn.py\u001b[0m in \u001b[0;36mfit\u001b[0;34m(self, x, y, x_val, y_val)\u001b[0m\n\u001b[1;32m    169\u001b[0m \u001b[0;34m\u001b[0m\u001b[0m\n\u001b[1;32m    170\u001b[0m                         results = sess.run(ops , feed_dict={self._x:batch_x, self._y:batch_y, \n\u001b[0;32m--> 171\u001b[0;31m                                                self._is_training:True})\n\u001b[0m\u001b[1;32m    172\u001b[0m                         \u001b[0mloss\u001b[0m \u001b[0;34m=\u001b[0m \u001b[0mresults\u001b[0m\u001b[0;34m[\u001b[0m\u001b[0;36m0\u001b[0m\u001b[0;34m]\u001b[0m\u001b[0;34m\u001b[0m\u001b[0m\n\u001b[1;32m    173\u001b[0m                         \u001b[0mloss_summary_text\u001b[0m \u001b[0;34m=\u001b[0m \u001b[0mresults\u001b[0m\u001b[0;34m[\u001b[0m\u001b[0;36m1\u001b[0m\u001b[0;34m]\u001b[0m\u001b[0;34m\u001b[0m\u001b[0m\n",
      "\u001b[0;32m~/.pyenv/versions/anaconda3-5.2.0/envs/scikit_practice/lib/python3.6/site-packages/tensorflow/python/client/session.py\u001b[0m in \u001b[0;36mrun\u001b[0;34m(self, fetches, feed_dict, options, run_metadata)\u001b[0m\n\u001b[1;32m    948\u001b[0m     \u001b[0;32mtry\u001b[0m\u001b[0;34m:\u001b[0m\u001b[0;34m\u001b[0m\u001b[0m\n\u001b[1;32m    949\u001b[0m       result = self._run(None, fetches, feed_dict, options_ptr,\n\u001b[0;32m--> 950\u001b[0;31m                          run_metadata_ptr)\n\u001b[0m\u001b[1;32m    951\u001b[0m       \u001b[0;32mif\u001b[0m \u001b[0mrun_metadata\u001b[0m\u001b[0;34m:\u001b[0m\u001b[0;34m\u001b[0m\u001b[0m\n\u001b[1;32m    952\u001b[0m         \u001b[0mproto_data\u001b[0m \u001b[0;34m=\u001b[0m \u001b[0mtf_session\u001b[0m\u001b[0;34m.\u001b[0m\u001b[0mTF_GetBuffer\u001b[0m\u001b[0;34m(\u001b[0m\u001b[0mrun_metadata_ptr\u001b[0m\u001b[0;34m)\u001b[0m\u001b[0;34m\u001b[0m\u001b[0m\n",
      "\u001b[0;32m~/.pyenv/versions/anaconda3-5.2.0/envs/scikit_practice/lib/python3.6/site-packages/tensorflow/python/client/session.py\u001b[0m in \u001b[0;36m_run\u001b[0;34m(self, handle, fetches, feed_dict, options, run_metadata)\u001b[0m\n\u001b[1;32m   1171\u001b[0m     \u001b[0;32mif\u001b[0m \u001b[0mfinal_fetches\u001b[0m \u001b[0;32mor\u001b[0m \u001b[0mfinal_targets\u001b[0m \u001b[0;32mor\u001b[0m \u001b[0;34m(\u001b[0m\u001b[0mhandle\u001b[0m \u001b[0;32mand\u001b[0m \u001b[0mfeed_dict_tensor\u001b[0m\u001b[0;34m)\u001b[0m\u001b[0;34m:\u001b[0m\u001b[0;34m\u001b[0m\u001b[0m\n\u001b[1;32m   1172\u001b[0m       results = self._do_run(handle, final_targets, final_fetches,\n\u001b[0;32m-> 1173\u001b[0;31m                              feed_dict_tensor, options, run_metadata)\n\u001b[0m\u001b[1;32m   1174\u001b[0m     \u001b[0;32melse\u001b[0m\u001b[0;34m:\u001b[0m\u001b[0;34m\u001b[0m\u001b[0m\n\u001b[1;32m   1175\u001b[0m       \u001b[0mresults\u001b[0m \u001b[0;34m=\u001b[0m \u001b[0;34m[\u001b[0m\u001b[0;34m]\u001b[0m\u001b[0;34m\u001b[0m\u001b[0m\n",
      "\u001b[0;32m~/.pyenv/versions/anaconda3-5.2.0/envs/scikit_practice/lib/python3.6/site-packages/tensorflow/python/client/session.py\u001b[0m in \u001b[0;36m_do_run\u001b[0;34m(self, handle, target_list, fetch_list, feed_dict, options, run_metadata)\u001b[0m\n\u001b[1;32m   1348\u001b[0m     \u001b[0;32mif\u001b[0m \u001b[0mhandle\u001b[0m \u001b[0;32mis\u001b[0m \u001b[0;32mNone\u001b[0m\u001b[0;34m:\u001b[0m\u001b[0;34m\u001b[0m\u001b[0m\n\u001b[1;32m   1349\u001b[0m       return self._do_call(_run_fn, feeds, fetches, targets, options,\n\u001b[0;32m-> 1350\u001b[0;31m                            run_metadata)\n\u001b[0m\u001b[1;32m   1351\u001b[0m     \u001b[0;32melse\u001b[0m\u001b[0;34m:\u001b[0m\u001b[0;34m\u001b[0m\u001b[0m\n\u001b[1;32m   1352\u001b[0m       \u001b[0;32mreturn\u001b[0m \u001b[0mself\u001b[0m\u001b[0;34m.\u001b[0m\u001b[0m_do_call\u001b[0m\u001b[0;34m(\u001b[0m\u001b[0m_prun_fn\u001b[0m\u001b[0;34m,\u001b[0m \u001b[0mhandle\u001b[0m\u001b[0;34m,\u001b[0m \u001b[0mfeeds\u001b[0m\u001b[0;34m,\u001b[0m \u001b[0mfetches\u001b[0m\u001b[0;34m)\u001b[0m\u001b[0;34m\u001b[0m\u001b[0m\n",
      "\u001b[0;32m~/.pyenv/versions/anaconda3-5.2.0/envs/scikit_practice/lib/python3.6/site-packages/tensorflow/python/client/session.py\u001b[0m in \u001b[0;36m_do_call\u001b[0;34m(self, fn, *args)\u001b[0m\n\u001b[1;32m   1368\u001b[0m           \u001b[0;32mpass\u001b[0m\u001b[0;34m\u001b[0m\u001b[0m\n\u001b[1;32m   1369\u001b[0m       \u001b[0mmessage\u001b[0m \u001b[0;34m=\u001b[0m \u001b[0merror_interpolation\u001b[0m\u001b[0;34m.\u001b[0m\u001b[0minterpolate\u001b[0m\u001b[0;34m(\u001b[0m\u001b[0mmessage\u001b[0m\u001b[0;34m,\u001b[0m \u001b[0mself\u001b[0m\u001b[0;34m.\u001b[0m\u001b[0m_graph\u001b[0m\u001b[0;34m)\u001b[0m\u001b[0;34m\u001b[0m\u001b[0m\n\u001b[0;32m-> 1370\u001b[0;31m       \u001b[0;32mraise\u001b[0m \u001b[0mtype\u001b[0m\u001b[0;34m(\u001b[0m\u001b[0me\u001b[0m\u001b[0;34m)\u001b[0m\u001b[0;34m(\u001b[0m\u001b[0mnode_def\u001b[0m\u001b[0;34m,\u001b[0m \u001b[0mop\u001b[0m\u001b[0;34m,\u001b[0m \u001b[0mmessage\u001b[0m\u001b[0;34m)\u001b[0m\u001b[0;34m\u001b[0m\u001b[0m\n\u001b[0m\u001b[1;32m   1371\u001b[0m \u001b[0;34m\u001b[0m\u001b[0m\n\u001b[1;32m   1372\u001b[0m   \u001b[0;32mdef\u001b[0m \u001b[0m_extend_graph\u001b[0m\u001b[0;34m(\u001b[0m\u001b[0mself\u001b[0m\u001b[0;34m)\u001b[0m\u001b[0;34m:\u001b[0m\u001b[0;34m\u001b[0m\u001b[0m\n",
      "\u001b[0;31mInvalidArgumentError\u001b[0m: You must feed a value for placeholder tensor 'x' with dtype float and shape [?,784]\n\t [[node x (defined at /Volumes/Projects/Machine Learning/tensorflow_practice/my_libs/dnn.py:229) ]]\n\nOriginal stack trace for 'x':\n  File \"/Users/devbhadurkhadka/.pyenv/versions/anaconda3-5.2.0/envs/scikit_practice/lib/python3.6/runpy.py\", line 193, in _run_module_as_main\n    \"__main__\", mod_spec)\n  File \"/Users/devbhadurkhadka/.pyenv/versions/anaconda3-5.2.0/envs/scikit_practice/lib/python3.6/runpy.py\", line 85, in _run_code\n    exec(code, run_globals)\n  File \"/Users/devbhadurkhadka/.pyenv/versions/anaconda3-5.2.0/envs/scikit_practice/lib/python3.6/site-packages/ipykernel_launcher.py\", line 16, in <module>\n    app.launch_new_instance()\n  File \"/Users/devbhadurkhadka/.pyenv/versions/anaconda3-5.2.0/envs/scikit_practice/lib/python3.6/site-packages/traitlets/config/application.py\", line 658, in launch_instance\n    app.start()\n  File \"/Users/devbhadurkhadka/.pyenv/versions/anaconda3-5.2.0/envs/scikit_practice/lib/python3.6/site-packages/ipykernel/kernelapp.py\", line 486, in start\n    self.io_loop.start()\n  File \"/Users/devbhadurkhadka/.pyenv/versions/anaconda3-5.2.0/envs/scikit_practice/lib/python3.6/site-packages/tornado/platform/asyncio.py\", line 127, in start\n    self.asyncio_loop.run_forever()\n  File \"/Users/devbhadurkhadka/.pyenv/versions/anaconda3-5.2.0/envs/scikit_practice/lib/python3.6/asyncio/base_events.py\", line 422, in run_forever\n    self._run_once()\n  File \"/Users/devbhadurkhadka/.pyenv/versions/anaconda3-5.2.0/envs/scikit_practice/lib/python3.6/asyncio/base_events.py\", line 1432, in _run_once\n    handle._run()\n  File \"/Users/devbhadurkhadka/.pyenv/versions/anaconda3-5.2.0/envs/scikit_practice/lib/python3.6/asyncio/events.py\", line 145, in _run\n    self._callback(*self._args)\n  File \"/Users/devbhadurkhadka/.pyenv/versions/anaconda3-5.2.0/envs/scikit_practice/lib/python3.6/site-packages/tornado/platform/asyncio.py\", line 117, in _handle_events\n    handler_func(fileobj, events)\n  File \"/Users/devbhadurkhadka/.pyenv/versions/anaconda3-5.2.0/envs/scikit_practice/lib/python3.6/site-packages/tornado/stack_context.py\", line 276, in null_wrapper\n    return fn(*args, **kwargs)\n  File \"/Users/devbhadurkhadka/.pyenv/versions/anaconda3-5.2.0/envs/scikit_practice/lib/python3.6/site-packages/zmq/eventloop/zmqstream.py\", line 450, in _handle_events\n    self._handle_recv()\n  File \"/Users/devbhadurkhadka/.pyenv/versions/anaconda3-5.2.0/envs/scikit_practice/lib/python3.6/site-packages/zmq/eventloop/zmqstream.py\", line 480, in _handle_recv\n    self._run_callback(callback, msg)\n  File \"/Users/devbhadurkhadka/.pyenv/versions/anaconda3-5.2.0/envs/scikit_practice/lib/python3.6/site-packages/zmq/eventloop/zmqstream.py\", line 432, in _run_callback\n    callback(*args, **kwargs)\n  File \"/Users/devbhadurkhadka/.pyenv/versions/anaconda3-5.2.0/envs/scikit_practice/lib/python3.6/site-packages/tornado/stack_context.py\", line 276, in null_wrapper\n    return fn(*args, **kwargs)\n  File \"/Users/devbhadurkhadka/.pyenv/versions/anaconda3-5.2.0/envs/scikit_practice/lib/python3.6/site-packages/ipykernel/kernelbase.py\", line 283, in dispatcher\n    return self.dispatch_shell(stream, msg)\n  File \"/Users/devbhadurkhadka/.pyenv/versions/anaconda3-5.2.0/envs/scikit_practice/lib/python3.6/site-packages/ipykernel/kernelbase.py\", line 233, in dispatch_shell\n    handler(stream, idents, msg)\n  File \"/Users/devbhadurkhadka/.pyenv/versions/anaconda3-5.2.0/envs/scikit_practice/lib/python3.6/site-packages/ipykernel/kernelbase.py\", line 399, in execute_request\n    user_expressions, allow_stdin)\n  File \"/Users/devbhadurkhadka/.pyenv/versions/anaconda3-5.2.0/envs/scikit_practice/lib/python3.6/site-packages/ipykernel/ipkernel.py\", line 208, in do_execute\n    res = shell.run_cell(code, store_history=store_history, silent=silent)\n  File \"/Users/devbhadurkhadka/.pyenv/versions/anaconda3-5.2.0/envs/scikit_practice/lib/python3.6/site-packages/ipykernel/zmqshell.py\", line 537, in run_cell\n    return super(ZMQInteractiveShell, self).run_cell(*args, **kwargs)\n  File \"/Users/devbhadurkhadka/.pyenv/versions/anaconda3-5.2.0/envs/scikit_practice/lib/python3.6/site-packages/IPython/core/interactiveshell.py\", line 2662, in run_cell\n    raw_cell, store_history, silent, shell_futures)\n  File \"/Users/devbhadurkhadka/.pyenv/versions/anaconda3-5.2.0/envs/scikit_practice/lib/python3.6/site-packages/IPython/core/interactiveshell.py\", line 2785, in _run_cell\n    interactivity=interactivity, compiler=compiler, result=result)\n  File \"/Users/devbhadurkhadka/.pyenv/versions/anaconda3-5.2.0/envs/scikit_practice/lib/python3.6/site-packages/IPython/core/interactiveshell.py\", line 2909, in run_ast_nodes\n    if self.run_code(code, result):\n  File \"/Users/devbhadurkhadka/.pyenv/versions/anaconda3-5.2.0/envs/scikit_practice/lib/python3.6/site-packages/IPython/core/interactiveshell.py\", line 2963, in run_code\n    exec(code_obj, self.user_global_ns, self.user_ns)\n  File \"<ipython-input-113-f7319ec1cc85>\", line 5, in <module>\n    frozen_classifier.fit(train_x_5to9, train_y_5to9, val_x_5to9, val_y_5to9)\n  File \"<ipython-input-112-ced8d64a46b0>\", line 23, in fit\n    return DNN_Classifier.fit(self, self._x_frozen_out, y, self._val_x_frozen_out, val_y)\n  File \"/Volumes/Projects/Machine Learning/tensorflow_practice/my_libs/dnn.py\", line 154, in fit\n    self._initialize_session_and_graph()\n  File \"<ipython-input-112-ced8d64a46b0>\", line 9, in _initialize_session_and_graph\n    DNN_Classifier_Transfer._initialize_session_and_graph(self)\n  File \"<ipython-input-108-2146e1df1a84>\", line 18, in _initialize_session_and_graph\n    DNN_Classifier._restore_graph(self,self._checkpoint_name)\n  File \"/Volumes/Projects/Machine Learning/tensorflow_practice/my_libs/dnn.py\", line 229, in _restore_graph\n    self._imported_meta = tf.train.import_meta_graph(\"%s.meta\"%self._get_save_path(name))\n  File \"/Users/devbhadurkhadka/.pyenv/versions/anaconda3-5.2.0/envs/scikit_practice/lib/python3.6/site-packages/tensorflow/python/training/saver.py\", line 1449, in import_meta_graph\n    **kwargs)[0]\n  File \"/Users/devbhadurkhadka/.pyenv/versions/anaconda3-5.2.0/envs/scikit_practice/lib/python3.6/site-packages/tensorflow/python/training/saver.py\", line 1473, in _import_meta_graph_with_return_elements\n    **kwargs))\n  File \"/Users/devbhadurkhadka/.pyenv/versions/anaconda3-5.2.0/envs/scikit_practice/lib/python3.6/site-packages/tensorflow/python/framework/meta_graph.py\", line 857, in import_scoped_meta_graph_with_return_elements\n    return_elements=return_elements)\n  File \"/Users/devbhadurkhadka/.pyenv/versions/anaconda3-5.2.0/envs/scikit_practice/lib/python3.6/site-packages/tensorflow/python/util/deprecation.py\", line 507, in new_func\n    return func(*args, **kwargs)\n  File \"/Users/devbhadurkhadka/.pyenv/versions/anaconda3-5.2.0/envs/scikit_practice/lib/python3.6/site-packages/tensorflow/python/framework/importer.py\", line 443, in import_graph_def\n    _ProcessNewOps(graph)\n  File \"/Users/devbhadurkhadka/.pyenv/versions/anaconda3-5.2.0/envs/scikit_practice/lib/python3.6/site-packages/tensorflow/python/framework/importer.py\", line 236, in _ProcessNewOps\n    for new_op in graph._add_new_tf_operations(compute_devices=False):  # pylint: disable=protected-access\n  File \"/Users/devbhadurkhadka/.pyenv/versions/anaconda3-5.2.0/envs/scikit_practice/lib/python3.6/site-packages/tensorflow/python/framework/ops.py\", line 3751, in _add_new_tf_operations\n    for c_op in c_api_util.new_tf_operations(self)\n  File \"/Users/devbhadurkhadka/.pyenv/versions/anaconda3-5.2.0/envs/scikit_practice/lib/python3.6/site-packages/tensorflow/python/framework/ops.py\", line 3751, in <listcomp>\n    for c_op in c_api_util.new_tf_operations(self)\n  File \"/Users/devbhadurkhadka/.pyenv/versions/anaconda3-5.2.0/envs/scikit_practice/lib/python3.6/site-packages/tensorflow/python/framework/ops.py\", line 3641, in _create_op_from_tf_operation\n    ret = Operation(c_op, self)\n  File \"/Users/devbhadurkhadka/.pyenv/versions/anaconda3-5.2.0/envs/scikit_practice/lib/python3.6/site-packages/tensorflow/python/framework/ops.py\", line 2005, in __init__\n    self._traceback = tf_stack.extract_stack()\n"
     ]
    }
   ],
   "source": [
    "# np.random.seed(0)\n",
    "# tf.random.set_random_seed(0)\n",
    "\n",
    "frozen_classifier = DNN_Classifier_Frozen(\"Mnist-0to4-best_batch_norm\", use_hidden_layers=4)\n",
    "frozen_classifier.fit(train_x_5to9, train_y_5to9, val_x_5to9, val_y_5to9)"
   ]
  },
  {
   "cell_type": "code",
   "execution_count": null,
   "metadata": {},
   "outputs": [],
   "source": []
  }
 ],
 "metadata": {
  "kernelspec": {
   "display_name": "Python 3",
   "language": "python",
   "name": "python3"
  },
  "language_info": {
   "codemirror_mode": {
    "name": "ipython",
    "version": 3
   },
   "file_extension": ".py",
   "mimetype": "text/x-python",
   "name": "python",
   "nbconvert_exporter": "python",
   "pygments_lexer": "ipython3",
   "version": "3.6.5"
  }
 },
 "nbformat": 4,
 "nbformat_minor": 2
}
