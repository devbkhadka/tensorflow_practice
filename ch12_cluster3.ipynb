{
 "cells": [
  {
   "cell_type": "code",
   "execution_count": 17,
   "metadata": {},
   "outputs": [
    {
     "name": "stdout",
     "output_type": "stream",
     "text": [
      "300.0 1.0\n"
     ]
    }
   ],
   "source": [
    "import tensorflow as tf\n",
    "\n",
    "tf.reset_default_graph()\n",
    "# with tf.device(\"/job:ps\"):\n",
    "c = tf.constant(15.0)\n",
    "\n",
    "# with tf.device(\"/job:worker\"):\n",
    "a = c+5\n",
    "\n",
    "b = c*a\n",
    "\n",
    "## shared variable in the cluster\n",
    "x = tf.Variable(0.0, name=\"x\")\n",
    "increment_x = tf.assign(x, x + 1)\n",
    "\n",
    "with tf.Session(\"grpc://localhost:2221\") as sess:\n",
    "    sess.run(x.initializer)\n",
    "    sess.run(increment_x)\n",
    "    print(b.eval(), x.eval())"
   ]
  },
  {
   "cell_type": "code",
   "execution_count": 6,
   "metadata": {},
   "outputs": [
    {
     "name": "stdout",
     "output_type": "stream",
     "text": [
      "[3.0, 6.0]\n"
     ]
    }
   ],
   "source": [
    "import tensorflow as tf\n",
    "\n",
    "tf.reset_default_graph()\n",
    "with tf.device(tf.train.replica_device_setter(ps_tasks=1)):\n",
    "    var=[]\n",
    "    for i in range(5):\n",
    "        var.append(tf.Variable(float(i+1)))\n",
    "\n",
    "    s=var[0]+var[1]\n",
    "\n",
    "    with tf.device(\"/job:ps\"):\n",
    "        p1 = 2*s\n",
    "        tf.constant(10, name=\"shared_constant\")\n",
    "        init = tf.global_variables_initializer()\n",
    "\n",
    "with tf.Session(\"grpc://localhost:2221\") as sess:\n",
    "    sess.run(init)\n",
    "    r = sess.run([s,p1])\n",
    "    print(r)\n",
    "                   "
   ]
  },
  {
   "cell_type": "code",
   "execution_count": 4,
   "metadata": {},
   "outputs": [
    {
     "data": {
      "text/plain": [
       "<tf.Tensor 'shared_constant:0' shape=() dtype=int32>"
      ]
     },
     "execution_count": 4,
     "metadata": {},
     "output_type": "execute_result"
    }
   ],
   "source": []
  },
  {
   "cell_type": "code",
   "execution_count": null,
   "metadata": {},
   "outputs": [],
   "source": []
  }
 ],
 "metadata": {
  "kernelspec": {
   "display_name": "Python 3",
   "language": "python",
   "name": "python3"
  },
  "language_info": {
   "codemirror_mode": {
    "name": "ipython",
    "version": 3
   },
   "file_extension": ".py",
   "mimetype": "text/x-python",
   "name": "python",
   "nbconvert_exporter": "python",
   "pygments_lexer": "ipython3",
   "version": "3.6.5"
  }
 },
 "nbformat": 4,
 "nbformat_minor": 2
}
