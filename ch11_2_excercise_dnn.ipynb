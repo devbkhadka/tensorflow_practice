{
 "cells": [
  {
   "cell_type": "markdown",
   "metadata": {},
   "source": [
    "### Data Processing"
   ]
  },
  {
   "cell_type": "code",
   "execution_count": 1,
   "metadata": {},
   "outputs": [
    {
     "name": "stderr",
     "output_type": "stream",
     "text": [
      "/Users/devbhadurkhadka/.pyenv/versions/anaconda3-5.2.0/envs/scikit_practice/lib/python3.6/site-packages/h5py/__init__.py:36: FutureWarning: Conversion of the second argument of issubdtype from `float` to `np.floating` is deprecated. In future, it will be treated as `np.float64 == np.dtype(float).type`.\n",
      "  from ._conv import register_converters as _register_converters\n",
      "WARNING: Logging before flag parsing goes to stderr.\n",
      "W0817 21:32:33.785245 4525913536 deprecation.py:323] From <ipython-input-1-f648f33866b9>:2: read_data_sets (from tensorflow.contrib.learn.python.learn.datasets.mnist) is deprecated and will be removed in a future version.\n",
      "Instructions for updating:\n",
      "Please use alternatives such as official/mnist/dataset.py from tensorflow/models.\n",
      "W0817 21:32:33.786481 4525913536 deprecation.py:323] From /Users/devbhadurkhadka/.pyenv/versions/anaconda3-5.2.0/envs/scikit_practice/lib/python3.6/site-packages/tensorflow/contrib/learn/python/learn/datasets/mnist.py:260: maybe_download (from tensorflow.contrib.learn.python.learn.datasets.base) is deprecated and will be removed in a future version.\n",
      "Instructions for updating:\n",
      "Please write your own downloading logic.\n",
      "W0817 21:32:33.827084 4525913536 deprecation.py:323] From /Users/devbhadurkhadka/.pyenv/versions/anaconda3-5.2.0/envs/scikit_practice/lib/python3.6/site-packages/tensorflow/contrib/learn/python/learn/datasets/mnist.py:262: extract_images (from tensorflow.contrib.learn.python.learn.datasets.mnist) is deprecated and will be removed in a future version.\n",
      "Instructions for updating:\n",
      "Please use tf.data to implement this functionality.\n"
     ]
    },
    {
     "name": "stdout",
     "output_type": "stream",
     "text": [
      "Extracting /tmp/data/train-images-idx3-ubyte.gz\n"
     ]
    },
    {
     "name": "stderr",
     "output_type": "stream",
     "text": [
      "W0817 21:32:34.265812 4525913536 deprecation.py:323] From /Users/devbhadurkhadka/.pyenv/versions/anaconda3-5.2.0/envs/scikit_practice/lib/python3.6/site-packages/tensorflow/contrib/learn/python/learn/datasets/mnist.py:267: extract_labels (from tensorflow.contrib.learn.python.learn.datasets.mnist) is deprecated and will be removed in a future version.\n",
      "Instructions for updating:\n",
      "Please use tf.data to implement this functionality.\n",
      "W0817 21:32:34.389964 4525913536 deprecation.py:323] From /Users/devbhadurkhadka/.pyenv/versions/anaconda3-5.2.0/envs/scikit_practice/lib/python3.6/site-packages/tensorflow/contrib/learn/python/learn/datasets/mnist.py:290: DataSet.__init__ (from tensorflow.contrib.learn.python.learn.datasets.mnist) is deprecated and will be removed in a future version.\n",
      "Instructions for updating:\n",
      "Please use alternatives such as official/mnist/dataset.py from tensorflow/models.\n"
     ]
    },
    {
     "name": "stdout",
     "output_type": "stream",
     "text": [
      "Extracting /tmp/data/train-labels-idx1-ubyte.gz\n",
      "Extracting /tmp/data/t10k-images-idx3-ubyte.gz\n",
      "Extracting /tmp/data/t10k-labels-idx1-ubyte.gz\n"
     ]
    }
   ],
   "source": [
    "from tensorflow.examples.tutorials import mnist\n",
    "mnist_data = mnist.input_data.read_data_sets(\"/tmp/data/\")"
   ]
  },
  {
   "cell_type": "code",
   "execution_count": 104,
   "metadata": {},
   "outputs": [],
   "source": [
    "import numpy as np\n",
    "\n",
    "\n",
    "train_indxs_upto_4 = mnist_data.train.labels<5\n",
    "train_images_upto_4 = mnist_data.train.images[train_indxs_upto_4]\n",
    "train_labels_upto_4 = mnist_data.train.labels[train_indxs_upto_4]\n",
    "\n",
    "val_indxs_upto_4 = mnist_data.validation.labels<5\n",
    "val_images_upto_4 = mnist_data.validation.images[val_indxs_upto_4]\n",
    "val_labels_upto_4 = mnist_data.validation.labels[val_indxs_upto_4]\n",
    "\n",
    "test_indxs_upto_4 = mnist_data.test.labels<5\n",
    "test_images_upto_4 = mnist_data.test.images[test_indxs_upto_4]\n",
    "test_labels_upto_4 = mnist_data.test.labels[test_indxs_upto_4]\n"
   ]
  },
  {
   "cell_type": "markdown",
   "metadata": {},
   "source": [
    "### Function Definitions "
   ]
  },
  {
   "cell_type": "code",
   "execution_count": 120,
   "metadata": {},
   "outputs": [],
   "source": [
    "import tensorflow as tf\n",
    "from tensorflow.contrib.layers import variance_scaling_initializer as he_initializer\n",
    "from tensorflow.nn import sparse_softmax_cross_entropy_with_logits as softmax_xentropy\n",
    "from tensorflow.layers import dense\n",
    "import numpy as np\n",
    "\n",
    "\n",
    "def get_leaky_relu(alpha):\n",
    "    return lambda z, name=None: tf.maximum(alpha*z,z, name=name)\n",
    "\n",
    "def get_logits(x, layer_sizes):\n",
    "    \n",
    "    activation = get_leaky_relu(alpha=0.3)\n",
    "#     activation = tf.nn.elu\n",
    "    initializer = he_initializer()\n",
    "    \n",
    "    with tf.name_scope(\"DNN\"):\n",
    "        layer_input = x\n",
    "        for i, layer_size in enumerate(layer_sizes[2:]):\n",
    "            layer_name = \"input\" if i==0 else \\\n",
    "                (\"output\" if i==len(layer_sizes)-1 else \"hidden%d\"%i)\n",
    "            \n",
    "            act = None if i==len(layer_sizes)-1 else activation\n",
    "            \n",
    "            layer_input = dense(layer_input, layer_size, name=layer_name, \n",
    "                            kernel_initializer=initializer, activation= act)\n",
    "            \n",
    "    return layer_input\n",
    "\n",
    "\n",
    "def get_softmax_xentropy_loss(logits,y):\n",
    "    with tf.name_scope(\"loss\"):\n",
    "        xentropy = softmax_xentropy(labels=y, logits=logits)\n",
    "        return tf.reduce_mean(xentropy)\n",
    "\n",
    "def get_optimizer(loss, learning_rate=0.01):\n",
    "    with tf.name_scope(\"train\"):\n",
    "        optimizer =  tf.train.AdamOptimizer (learning_rate=learning_rate)\n",
    "        optimizer_op = optimizer.minimize(loss)\n",
    "    return optimizer_op\n",
    "\n",
    "def get_validation_score(logits,y):\n",
    "    with tf.name_scope(\"validation\"):\n",
    "        preds = tf.nn.in_top_k(logits,y,1)\n",
    "        return tf.reduce_mean(tf.cast(preds, dtype=np.float32))\n",
    "    \n",
    "def get_batch(x,y,batch_size):\n",
    "    n_batches = len(y)//batch_size + 1\n",
    "    for i in range(n_batches):\n",
    "        indxes = np.random.choice(len(y), size=batch_size, replace=False)\n",
    "        yield x[indxes], y[indxes]\n"
   ]
  },
  {
   "cell_type": "markdown",
   "metadata": {},
   "source": [
    "### Training"
   ]
  },
  {
   "cell_type": "code",
   "execution_count": 133,
   "metadata": {},
   "outputs": [],
   "source": [
    "from my_libs.tf_checkpoint import CheckpointSaver\n",
    "from my_libs.tf_graph_saver import ScalerGraphSaver\n",
    "\n",
    "def train_model(train_ds, validation_ds, restore_checkpoint=True):\n",
    "    layer_sizes = [100,100,100,100,100]\n",
    "    learning_rate = 0.01\n",
    "    n_epochs = 200\n",
    "    batch_size = 50\n",
    "\n",
    "    train_x, train_y = train_ds\n",
    "    val_x, val_y = validation_ds\n",
    "    \n",
    "    tf.reset_default_graph()\n",
    "    \n",
    "    var_epoch = tf.Variable(initial_value=0,dtype=np.int16, name=\"epoch\")\n",
    "    inc_epoch = tf.compat.v1.assign_add(var_epoch,1, name=\"inc_epoch\")\n",
    "    \n",
    "    x = tf.placeholder(shape=(None, 28*28), dtype=np.float32,name=\"x\")\n",
    "    y = tf.placeholder(shape=(None), dtype=np.int32,name=\"y\")\n",
    "    logits = get_logits(x, layer_sizes)\n",
    "    \n",
    "    loss_op = get_softmax_xentropy_loss(logits,y)\n",
    "    optimizer = get_optimizer(loss_op)\n",
    "    validation_score = get_validation_score(logits,y)\n",
    "    \n",
    "    with tf.Session() as sess:\n",
    "        chk_saver = CheckpointSaver(name=\"excercise1_epoch\")\n",
    "        \n",
    "        epoch_start=0\n",
    "        if restore_checkpoint and chk_saver.restore_checkpoint():\n",
    "            epoch_start = var_epoch.eval(sess)\n",
    "            print(\"restored at epoch %d\"%epoch_start)\n",
    "        else:\n",
    "            init = tf.global_variables_initializer()\n",
    "#             init = tf.variables_initializer([var_epoch])\n",
    "            sess.run(init)\n",
    "        \n",
    "        \n",
    "        \n",
    "        for epoch in range(epoch_start, n_epochs):\n",
    "            for batch_x, batch_y in get_batch(train_x,train_y, batch_size):\n",
    "                loss,_ = sess.run([loss_op, optimizer], feed_dict={x:batch_x,y:batch_y})\n",
    "            sess.run(inc_epoch)\n",
    "            if (epoch>0 and (epoch%25==0 or epoch==n_epochs-1)):\n",
    "                chk_saver.save_checkpoint()\n",
    "                print(\"%d: train-%s, validation-%s,\"% \\\n",
    "                      (epoch, loss, sess.run(loss_op, feed_dict={x:val_x,y:val_y})))\n",
    "                print(sess.run(validation_score, feed_dict={x:val_x,y:val_y}))\n",
    "    \n",
    "        \n",
    "        \n",
    "        \n",
    "        \n",
    "        \n",
    "    def predict(test_x):\n",
    "        return tf.math.argmax(logits, axis=1)\n",
    "    return predict\n",
    "    "
   ]
  },
  {
   "cell_type": "code",
   "execution_count": 135,
   "metadata": {},
   "outputs": [
    {
     "name": "stdout",
     "output_type": "stream",
     "text": [
      "restored at epoch 150\n",
      "150: train-0.0, validation-6.30893,\n",
      "0.988663\n",
      "175: train-0.0, validation-4.5375624,\n",
      "0.9882721\n",
      "199: train-1.8938293, validation-6.8174853,\n",
      "0.98944485\n"
     ]
    }
   ],
   "source": [
    "predict = train_model((train_images_upto_4,train_labels_upto_4),\n",
    "                      (val_images_upto_4,val_labels_upto_4), restore_checkpoint=True)\n",
    "\n",
    "predictions = predict(test_images_upto_4)\n",
    "accuracy = np.mean(test_labels_upto_4==predictions)"
   ]
  },
  {
   "cell_type": "code",
   "execution_count": 113,
   "metadata": {},
   "outputs": [],
   "source": [
    "chk_saver = CheckpointSaver(name=\"excercise1_epoch\")"
   ]
  },
  {
   "cell_type": "code",
   "execution_count": 6,
   "metadata": {},
   "outputs": [],
   "source": [
    "dense?"
   ]
  },
  {
   "cell_type": "code",
   "execution_count": 69,
   "metadata": {},
   "outputs": [],
   "source": [
    "tf.train.AdamOptimizer?"
   ]
  },
  {
   "cell_type": "code",
   "execution_count": 76,
   "metadata": {},
   "outputs": [
    {
     "data": {
      "text/plain": [
       "(55000, 1)"
      ]
     },
     "execution_count": 76,
     "metadata": {},
     "output_type": "execute_result"
    }
   ],
   "source": [
    "train_labels.reshape(-1,1).shape"
   ]
  },
  {
   "cell_type": "code",
   "execution_count": 99,
   "metadata": {},
   "outputs": [],
   "source": [
    "tf.nn.softmax_cross_entropy_with_logits_v2?"
   ]
  },
  {
   "cell_type": "code",
   "execution_count": 86,
   "metadata": {},
   "outputs": [],
   "source": [
    "np.random.choice?"
   ]
  },
  {
   "cell_type": "code",
   "execution_count": null,
   "metadata": {},
   "outputs": [],
   "source": []
  }
 ],
 "metadata": {
  "kernelspec": {
   "display_name": "Python 3",
   "language": "python",
   "name": "python3"
  },
  "language_info": {
   "codemirror_mode": {
    "name": "ipython",
    "version": 3
   },
   "file_extension": ".py",
   "mimetype": "text/x-python",
   "name": "python",
   "nbconvert_exporter": "python",
   "pygments_lexer": "ipython3",
   "version": "3.6.5"
  }
 },
 "nbformat": 4,
 "nbformat_minor": 2
}
