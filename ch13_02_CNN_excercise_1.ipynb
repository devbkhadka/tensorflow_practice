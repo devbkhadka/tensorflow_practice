{
 "cells": [
  {
   "cell_type": "markdown",
   "metadata": {},
   "source": [
    "#### What are the advantages of a CNN over a fully connected DNN for image classification?"
   ]
  },
  {
   "cell_type": "markdown",
   "metadata": {},
   "source": [
    "- As CNN layers are partially connected and it heavily reuses its weights, a CNN has away fewer parameters than a fully connected DNN. Which makes it much faster to train and reduces risk of overfitting and require much less training data\n",
    "- CNN use the fact that nearby pixels are useful to detect useful features in a image. \n",
    "- The convolution layer extract similar types of features at different location of image. Each next layer extract more complex features which can be used to detect more complex objects.\n",
    "- as CNN detects similar features in different location of image, so detection of object will be independent of its location in image. But DNN detects a feature in particular location only"
   ]
  },
  {
   "cell_type": "markdown",
   "metadata": {},
   "source": [
    "#### Consider a CNN composed of three convolutional layers, each with 3 × 3 kernels, a stride of 2, and SAME padding. The lowest layer outputs 100 feature maps, the middle one outputs 200, and the top one outputs 400. The input images are RGB images of 200 × 300 pixels. What is the total number of parameters in the CNN? If we are using 32-bit floats, at least how much RAM will this network require when making a prediction for a single instance? What about when training on a mini-batch of 50 images?"
   ]
  },
  {
   "cell_type": "code",
   "execution_count": 12,
   "metadata": {},
   "outputs": [
    {
     "name": "stdout",
     "output_type": "stream",
     "text": [
      "n_params:  903400\n",
      "n_feature_maps:  2805000.0\n",
      "memory for params:  3.446197509765625\n",
      "memory per instance:  14.14642333984375\n",
      "memory per batch:  538.4574890136719\n"
     ]
    }
   ],
   "source": [
    "## number of parameters for each instance\n",
    "## each term is (kernel size * map size of previous layer+1)*map size of current layer\n",
    "n_params = 100*(3*3*3+1)+200*(3*3*100+1)+400*(3*3*200+1)\n",
    "\n",
    "## in each next layer image size is halfed in both with and height\n",
    "## total size of feature map size in each layer is feature size * no of maps\n",
    "n_feature_maps = 200*300*3 + (200*300/4)*100 + (200*300/16)*200 + (200*300/(16*4))*400\n",
    "\n",
    "\n",
    "print('n_params: ', n_params )\n",
    "print('n_feature_maps: ', n_feature_maps)\n",
    "\n",
    "params_size = n_params*4/(1024*1024)\n",
    "feature_maps_size = n_feature_maps*4/(1024*1024)\n",
    "\n",
    "\n",
    "print('memory for params: ', params_size)\n",
    "print('memory per instance: ', params_size+feature_maps_size)\n",
    "print('memory per batch: ', params_size+50*feature_maps_size)"
   ]
  },
  {
   "cell_type": "markdown",
   "metadata": {},
   "source": [
    "#### If your GPU runs out of memory while training a CNN, what are five things you could try to solve the problem?"
   ]
  },
  {
   "cell_type": "markdown",
   "metadata": {},
   "source": [
    "- Reduce batch size\n",
    "- Run each kernel of convolution layer in parallel\n",
    "- add pooling layer to reduce map size\n",
    "- apply strides along maps to skip some maps\n",
    "- User larger strides to reduce feature dimension\n",
    "- Use 16bit float instead of 32"
   ]
  },
  {
   "cell_type": "markdown",
   "metadata": {},
   "source": [
    "#### Why would you want to add a max pooling layer rather than a convolutional layer with the same stride?"
   ]
  },
  {
   "cell_type": "markdown",
   "metadata": {},
   "source": [
    "- polling layer don't have trainable parameters\n",
    "- pooling layer is computationally less intensive than convolutional layer\n",
    "- It doesn't change number of feature maps"
   ]
  },
  {
   "cell_type": "markdown",
   "metadata": {},
   "source": [
    "#### When would you want to add a local response normalization layer?"
   ]
  },
  {
   "cell_type": "markdown",
   "metadata": {},
   "source": [
    "- local response normalization layer inhibit low activated neuron connection by highly activated connection for same location of feature but on different map\n",
    "- This force each map to specialize to certain type of feature making each map different. Which help to increase range of features explored by the system"
   ]
  },
  {
   "cell_type": "markdown",
   "metadata": {},
   "source": [
    "#### Can you name the main innovations in AlexNet, compared to LeNet-5? What about the main innovations in GoogLeNet and ResNet?"
   ]
  },
  {
   "cell_type": "markdown",
   "metadata": {},
   "source": [
    "**AlexNet above LeNet5**\n",
    "- It is much deeper\n",
    "- It stacks convolutional layers on top of each other without pooling layer in between\n",
    "\n",
    "**GoogLeNet**\n",
    "- introduces inceptions modules with helped it go deeper with fewer parameters\n",
    "\n",
    "**ResNet**\n",
    "- introduces skip connections which made it possible to go beyond 100 layers\n",
    "- It's architecture is simple"
   ]
  },
  {
   "cell_type": "code",
   "execution_count": 5,
   "metadata": {},
   "outputs": [
    {
     "data": {
      "text/plain": [
       "[('o', 2), ('t', 1), ('e', 1), ('w', 1), ('p', 1)]"
      ]
     },
     "execution_count": 5,
     "metadata": {},
     "output_type": "execute_result"
    }
   ],
   "source": [
    "from collections import Counter\n",
    "\n",
    "ls = 'top of each other without pooling layer in between'.split()\n",
    "\n",
    "counter = Counter([s[0] for s in ls])\n",
    "counter.most_common(5)"
   ]
  },
  {
   "cell_type": "code",
   "execution_count": null,
   "metadata": {},
   "outputs": [],
   "source": [
    "counter = Counter"
   ]
  },
  {
   "cell_type": "code",
   "execution_count": null,
   "metadata": {},
   "outputs": [],
   "source": []
  }
 ],
 "metadata": {
  "kernelspec": {
   "display_name": "Python 3",
   "language": "python",
   "name": "python3"
  },
  "language_info": {
   "codemirror_mode": {
    "name": "ipython",
    "version": 3
   },
   "file_extension": ".py",
   "mimetype": "text/x-python",
   "name": "python",
   "nbconvert_exporter": "python",
   "pygments_lexer": "ipython3",
   "version": "3.6.5"
  }
 },
 "nbformat": 4,
 "nbformat_minor": 2
}
